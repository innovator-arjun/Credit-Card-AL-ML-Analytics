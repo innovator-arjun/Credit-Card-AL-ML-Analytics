{
 "cells": [
  {
   "cell_type": "code",
   "execution_count": 2,
   "metadata": {
    "collapsed": false
   },
   "outputs": [],
   "source": [
    "import pandas as pd\n",
    "import matplotlib \n",
    "import matplotlib.pyplot as plt\n",
    "import seaborn as sns\n",
    "import numpy as np\n",
    "from sklearn.manifold import TSNE\n",
    "from IPython.core.interactiveshell import InteractiveShell\n",
    "import warnings\n",
    "from sklearn.preprocessing import StandardScaler\n",
    "from sklearn.manifold import TSNE\n",
    "warnings.filterwarnings('ignore') # to supress seaborn warnings\n",
    "pd.options.display.max_columns = None # Remove pandas display column number limit"
   ]
  },
  {
   "cell_type": "code",
   "execution_count": 3,
   "metadata": {
    "collapsed": false
   },
   "outputs": [],
   "source": [
    "fulldata=pd.read_csv('defaultloan.csv',index_col=0)"
   ]
  },
  {
   "cell_type": "code",
   "execution_count": 4,
   "metadata": {
    "collapsed": false
   },
   "outputs": [
    {
     "data": {
      "text/html": [
       "<div>\n",
       "<table border=\"1\" class=\"dataframe\">\n",
       "  <thead>\n",
       "    <tr style=\"text-align: right;\">\n",
       "      <th></th>\n",
       "      <th>X1</th>\n",
       "      <th>X2</th>\n",
       "      <th>X3</th>\n",
       "      <th>X4</th>\n",
       "      <th>X5</th>\n",
       "      <th>X6</th>\n",
       "      <th>X7</th>\n",
       "      <th>X8</th>\n",
       "      <th>X9</th>\n",
       "      <th>X10</th>\n",
       "      <th>X11</th>\n",
       "      <th>X12</th>\n",
       "      <th>X13</th>\n",
       "      <th>X14</th>\n",
       "      <th>X15</th>\n",
       "      <th>X16</th>\n",
       "      <th>X17</th>\n",
       "      <th>X18</th>\n",
       "      <th>X19</th>\n",
       "      <th>X20</th>\n",
       "      <th>X21</th>\n",
       "      <th>X22</th>\n",
       "      <th>X23</th>\n",
       "      <th>Y</th>\n",
       "    </tr>\n",
       "  </thead>\n",
       "  <tbody>\n",
       "    <tr>\n",
       "      <th>ID</th>\n",
       "      <td>LIMIT_BAL</td>\n",
       "      <td>SEX</td>\n",
       "      <td>EDUCATION</td>\n",
       "      <td>MARRIAGE</td>\n",
       "      <td>AGE</td>\n",
       "      <td>PAY_0</td>\n",
       "      <td>PAY_2</td>\n",
       "      <td>PAY_3</td>\n",
       "      <td>PAY_4</td>\n",
       "      <td>PAY_5</td>\n",
       "      <td>PAY_6</td>\n",
       "      <td>BILL_AMT1</td>\n",
       "      <td>BILL_AMT2</td>\n",
       "      <td>BILL_AMT3</td>\n",
       "      <td>BILL_AMT4</td>\n",
       "      <td>BILL_AMT5</td>\n",
       "      <td>BILL_AMT6</td>\n",
       "      <td>PAY_AMT1</td>\n",
       "      <td>PAY_AMT2</td>\n",
       "      <td>PAY_AMT3</td>\n",
       "      <td>PAY_AMT4</td>\n",
       "      <td>PAY_AMT5</td>\n",
       "      <td>PAY_AMT6</td>\n",
       "      <td>default payment next month</td>\n",
       "    </tr>\n",
       "    <tr>\n",
       "      <th>1</th>\n",
       "      <td>20000</td>\n",
       "      <td>2</td>\n",
       "      <td>2</td>\n",
       "      <td>1</td>\n",
       "      <td>24</td>\n",
       "      <td>2</td>\n",
       "      <td>2</td>\n",
       "      <td>-1</td>\n",
       "      <td>-1</td>\n",
       "      <td>-2</td>\n",
       "      <td>-2</td>\n",
       "      <td>3913</td>\n",
       "      <td>3102</td>\n",
       "      <td>689</td>\n",
       "      <td>0</td>\n",
       "      <td>0</td>\n",
       "      <td>0</td>\n",
       "      <td>0</td>\n",
       "      <td>689</td>\n",
       "      <td>0</td>\n",
       "      <td>0</td>\n",
       "      <td>0</td>\n",
       "      <td>0</td>\n",
       "      <td>1</td>\n",
       "    </tr>\n",
       "    <tr>\n",
       "      <th>2</th>\n",
       "      <td>120000</td>\n",
       "      <td>2</td>\n",
       "      <td>2</td>\n",
       "      <td>2</td>\n",
       "      <td>26</td>\n",
       "      <td>-1</td>\n",
       "      <td>2</td>\n",
       "      <td>0</td>\n",
       "      <td>0</td>\n",
       "      <td>0</td>\n",
       "      <td>2</td>\n",
       "      <td>2682</td>\n",
       "      <td>1725</td>\n",
       "      <td>2682</td>\n",
       "      <td>3272</td>\n",
       "      <td>3455</td>\n",
       "      <td>3261</td>\n",
       "      <td>0</td>\n",
       "      <td>1000</td>\n",
       "      <td>1000</td>\n",
       "      <td>1000</td>\n",
       "      <td>0</td>\n",
       "      <td>2000</td>\n",
       "      <td>1</td>\n",
       "    </tr>\n",
       "    <tr>\n",
       "      <th>3</th>\n",
       "      <td>90000</td>\n",
       "      <td>2</td>\n",
       "      <td>2</td>\n",
       "      <td>2</td>\n",
       "      <td>34</td>\n",
       "      <td>0</td>\n",
       "      <td>0</td>\n",
       "      <td>0</td>\n",
       "      <td>0</td>\n",
       "      <td>0</td>\n",
       "      <td>0</td>\n",
       "      <td>29239</td>\n",
       "      <td>14027</td>\n",
       "      <td>13559</td>\n",
       "      <td>14331</td>\n",
       "      <td>14948</td>\n",
       "      <td>15549</td>\n",
       "      <td>1518</td>\n",
       "      <td>1500</td>\n",
       "      <td>1000</td>\n",
       "      <td>1000</td>\n",
       "      <td>1000</td>\n",
       "      <td>5000</td>\n",
       "      <td>0</td>\n",
       "    </tr>\n",
       "    <tr>\n",
       "      <th>4</th>\n",
       "      <td>50000</td>\n",
       "      <td>2</td>\n",
       "      <td>2</td>\n",
       "      <td>1</td>\n",
       "      <td>37</td>\n",
       "      <td>0</td>\n",
       "      <td>0</td>\n",
       "      <td>0</td>\n",
       "      <td>0</td>\n",
       "      <td>0</td>\n",
       "      <td>0</td>\n",
       "      <td>46990</td>\n",
       "      <td>48233</td>\n",
       "      <td>49291</td>\n",
       "      <td>28314</td>\n",
       "      <td>28959</td>\n",
       "      <td>29547</td>\n",
       "      <td>2000</td>\n",
       "      <td>2019</td>\n",
       "      <td>1200</td>\n",
       "      <td>1100</td>\n",
       "      <td>1069</td>\n",
       "      <td>1000</td>\n",
       "      <td>0</td>\n",
       "    </tr>\n",
       "  </tbody>\n",
       "</table>\n",
       "</div>"
      ],
      "text/plain": [
       "           X1   X2         X3        X4   X5     X6     X7     X8     X9  \\\n",
       "ID  LIMIT_BAL  SEX  EDUCATION  MARRIAGE  AGE  PAY_0  PAY_2  PAY_3  PAY_4   \n",
       "1       20000    2          2         1   24      2      2     -1     -1   \n",
       "2      120000    2          2         2   26     -1      2      0      0   \n",
       "3       90000    2          2         2   34      0      0      0      0   \n",
       "4       50000    2          2         1   37      0      0      0      0   \n",
       "\n",
       "      X10    X11        X12        X13        X14        X15        X16  \\\n",
       "ID  PAY_5  PAY_6  BILL_AMT1  BILL_AMT2  BILL_AMT3  BILL_AMT4  BILL_AMT5   \n",
       "1      -2     -2       3913       3102        689          0          0   \n",
       "2       0      2       2682       1725       2682       3272       3455   \n",
       "3       0      0      29239      14027      13559      14331      14948   \n",
       "4       0      0      46990      48233      49291      28314      28959   \n",
       "\n",
       "          X17       X18       X19       X20       X21       X22       X23  \\\n",
       "ID  BILL_AMT6  PAY_AMT1  PAY_AMT2  PAY_AMT3  PAY_AMT4  PAY_AMT5  PAY_AMT6   \n",
       "1           0         0       689         0         0         0         0   \n",
       "2        3261         0      1000      1000      1000         0      2000   \n",
       "3       15549      1518      1500      1000      1000      1000      5000   \n",
       "4       29547      2000      2019      1200      1100      1069      1000   \n",
       "\n",
       "                             Y  \n",
       "ID  default payment next month  \n",
       "1                            1  \n",
       "2                            1  \n",
       "3                            0  \n",
       "4                            0  "
      ]
     },
     "execution_count": 4,
     "metadata": {},
     "output_type": "execute_result"
    }
   ],
   "source": [
    "fulldata.head()"
   ]
  },
  {
   "cell_type": "markdown",
   "metadata": {},
   "source": [
    "# Cleaning Data"
   ]
  },
  {
   "cell_type": "code",
   "execution_count": 5,
   "metadata": {
    "collapsed": true
   },
   "outputs": [],
   "source": [
    "# Removing the extra header like X1,X2,X3...\n",
    "\n",
    "def fix_header(data):\n",
    "    new_header=data.iloc[0]\n",
    "    data=data[1:]\n",
    "    data.columns=new_header\n",
    "    data.rename(columns={'default payment next month':'DEFAULTER'},inplace=True)\n",
    "    return data\n",
    "fulldata=fix_header(fulldata)"
   ]
  },
  {
   "cell_type": "code",
   "execution_count": 6,
   "metadata": {
    "collapsed": false
   },
   "outputs": [
    {
     "data": {
      "text/html": [
       "<div>\n",
       "<table border=\"1\" class=\"dataframe\">\n",
       "  <thead>\n",
       "    <tr style=\"text-align: right;\">\n",
       "      <th>ID</th>\n",
       "      <th>LIMIT_BAL</th>\n",
       "      <th>SEX</th>\n",
       "      <th>EDUCATION</th>\n",
       "      <th>MARRIAGE</th>\n",
       "      <th>AGE</th>\n",
       "      <th>PAY_0</th>\n",
       "      <th>PAY_2</th>\n",
       "      <th>PAY_3</th>\n",
       "      <th>PAY_4</th>\n",
       "      <th>PAY_5</th>\n",
       "      <th>PAY_6</th>\n",
       "      <th>BILL_AMT1</th>\n",
       "      <th>BILL_AMT2</th>\n",
       "      <th>BILL_AMT3</th>\n",
       "      <th>BILL_AMT4</th>\n",
       "      <th>BILL_AMT5</th>\n",
       "      <th>BILL_AMT6</th>\n",
       "      <th>PAY_AMT1</th>\n",
       "      <th>PAY_AMT2</th>\n",
       "      <th>PAY_AMT3</th>\n",
       "      <th>PAY_AMT4</th>\n",
       "      <th>PAY_AMT5</th>\n",
       "      <th>PAY_AMT6</th>\n",
       "      <th>DEFAULTER</th>\n",
       "    </tr>\n",
       "  </thead>\n",
       "  <tbody>\n",
       "    <tr>\n",
       "      <th>1</th>\n",
       "      <td>20000</td>\n",
       "      <td>2</td>\n",
       "      <td>2</td>\n",
       "      <td>1</td>\n",
       "      <td>24</td>\n",
       "      <td>2</td>\n",
       "      <td>2</td>\n",
       "      <td>-1</td>\n",
       "      <td>-1</td>\n",
       "      <td>-2</td>\n",
       "      <td>-2</td>\n",
       "      <td>3913</td>\n",
       "      <td>3102</td>\n",
       "      <td>689</td>\n",
       "      <td>0</td>\n",
       "      <td>0</td>\n",
       "      <td>0</td>\n",
       "      <td>0</td>\n",
       "      <td>689</td>\n",
       "      <td>0</td>\n",
       "      <td>0</td>\n",
       "      <td>0</td>\n",
       "      <td>0</td>\n",
       "      <td>1</td>\n",
       "    </tr>\n",
       "    <tr>\n",
       "      <th>2</th>\n",
       "      <td>120000</td>\n",
       "      <td>2</td>\n",
       "      <td>2</td>\n",
       "      <td>2</td>\n",
       "      <td>26</td>\n",
       "      <td>-1</td>\n",
       "      <td>2</td>\n",
       "      <td>0</td>\n",
       "      <td>0</td>\n",
       "      <td>0</td>\n",
       "      <td>2</td>\n",
       "      <td>2682</td>\n",
       "      <td>1725</td>\n",
       "      <td>2682</td>\n",
       "      <td>3272</td>\n",
       "      <td>3455</td>\n",
       "      <td>3261</td>\n",
       "      <td>0</td>\n",
       "      <td>1000</td>\n",
       "      <td>1000</td>\n",
       "      <td>1000</td>\n",
       "      <td>0</td>\n",
       "      <td>2000</td>\n",
       "      <td>1</td>\n",
       "    </tr>\n",
       "    <tr>\n",
       "      <th>3</th>\n",
       "      <td>90000</td>\n",
       "      <td>2</td>\n",
       "      <td>2</td>\n",
       "      <td>2</td>\n",
       "      <td>34</td>\n",
       "      <td>0</td>\n",
       "      <td>0</td>\n",
       "      <td>0</td>\n",
       "      <td>0</td>\n",
       "      <td>0</td>\n",
       "      <td>0</td>\n",
       "      <td>29239</td>\n",
       "      <td>14027</td>\n",
       "      <td>13559</td>\n",
       "      <td>14331</td>\n",
       "      <td>14948</td>\n",
       "      <td>15549</td>\n",
       "      <td>1518</td>\n",
       "      <td>1500</td>\n",
       "      <td>1000</td>\n",
       "      <td>1000</td>\n",
       "      <td>1000</td>\n",
       "      <td>5000</td>\n",
       "      <td>0</td>\n",
       "    </tr>\n",
       "    <tr>\n",
       "      <th>4</th>\n",
       "      <td>50000</td>\n",
       "      <td>2</td>\n",
       "      <td>2</td>\n",
       "      <td>1</td>\n",
       "      <td>37</td>\n",
       "      <td>0</td>\n",
       "      <td>0</td>\n",
       "      <td>0</td>\n",
       "      <td>0</td>\n",
       "      <td>0</td>\n",
       "      <td>0</td>\n",
       "      <td>46990</td>\n",
       "      <td>48233</td>\n",
       "      <td>49291</td>\n",
       "      <td>28314</td>\n",
       "      <td>28959</td>\n",
       "      <td>29547</td>\n",
       "      <td>2000</td>\n",
       "      <td>2019</td>\n",
       "      <td>1200</td>\n",
       "      <td>1100</td>\n",
       "      <td>1069</td>\n",
       "      <td>1000</td>\n",
       "      <td>0</td>\n",
       "    </tr>\n",
       "    <tr>\n",
       "      <th>5</th>\n",
       "      <td>50000</td>\n",
       "      <td>1</td>\n",
       "      <td>2</td>\n",
       "      <td>1</td>\n",
       "      <td>57</td>\n",
       "      <td>-1</td>\n",
       "      <td>0</td>\n",
       "      <td>-1</td>\n",
       "      <td>0</td>\n",
       "      <td>0</td>\n",
       "      <td>0</td>\n",
       "      <td>8617</td>\n",
       "      <td>5670</td>\n",
       "      <td>35835</td>\n",
       "      <td>20940</td>\n",
       "      <td>19146</td>\n",
       "      <td>19131</td>\n",
       "      <td>2000</td>\n",
       "      <td>36681</td>\n",
       "      <td>10000</td>\n",
       "      <td>9000</td>\n",
       "      <td>689</td>\n",
       "      <td>679</td>\n",
       "      <td>0</td>\n",
       "    </tr>\n",
       "  </tbody>\n",
       "</table>\n",
       "</div>"
      ],
      "text/plain": [
       "ID LIMIT_BAL SEX EDUCATION MARRIAGE AGE PAY_0 PAY_2 PAY_3 PAY_4 PAY_5 PAY_6  \\\n",
       "1      20000   2         2        1  24     2     2    -1    -1    -2    -2   \n",
       "2     120000   2         2        2  26    -1     2     0     0     0     2   \n",
       "3      90000   2         2        2  34     0     0     0     0     0     0   \n",
       "4      50000   2         2        1  37     0     0     0     0     0     0   \n",
       "5      50000   1         2        1  57    -1     0    -1     0     0     0   \n",
       "\n",
       "ID BILL_AMT1 BILL_AMT2 BILL_AMT3 BILL_AMT4 BILL_AMT5 BILL_AMT6 PAY_AMT1  \\\n",
       "1       3913      3102       689         0         0         0        0   \n",
       "2       2682      1725      2682      3272      3455      3261        0   \n",
       "3      29239     14027     13559     14331     14948     15549     1518   \n",
       "4      46990     48233     49291     28314     28959     29547     2000   \n",
       "5       8617      5670     35835     20940     19146     19131     2000   \n",
       "\n",
       "ID PAY_AMT2 PAY_AMT3 PAY_AMT4 PAY_AMT5 PAY_AMT6 DEFAULTER  \n",
       "1       689        0        0        0        0         1  \n",
       "2      1000     1000     1000        0     2000         1  \n",
       "3      1500     1000     1000     1000     5000         0  \n",
       "4      2019     1200     1100     1069     1000         0  \n",
       "5     36681    10000     9000      689      679         0  "
      ]
     },
     "execution_count": 6,
     "metadata": {},
     "output_type": "execute_result"
    }
   ],
   "source": [
    "\n",
    "fulldata.head()"
   ]
  },
  {
   "cell_type": "code",
   "execution_count": 7,
   "metadata": {
    "collapsed": false
   },
   "outputs": [
    {
     "data": {
      "text/plain": [
       "False"
      ]
     },
     "execution_count": 7,
     "metadata": {},
     "output_type": "execute_result"
    }
   ],
   "source": [
    "#Checking null values in the dataframe\n",
    "\n",
    "fulldata.isnull().values.any()"
   ]
  },
  {
   "cell_type": "code",
   "execution_count": 8,
   "metadata": {
    "collapsed": false
   },
   "outputs": [
    {
     "data": {
      "text/plain": [
       "2    14030\n",
       "1    10585\n",
       "3     4917\n",
       "5      280\n",
       "4      123\n",
       "6       51\n",
       "0       14\n",
       "Name: EDUCATION, dtype: int64"
      ]
     },
     "execution_count": 8,
     "metadata": {},
     "output_type": "execute_result"
    }
   ],
   "source": [
    "#checking the range of values in Education and making it meaningful\n",
    "\n",
    "fulldata.EDUCATION.value_counts()"
   ]
  },
  {
   "cell_type": "code",
   "execution_count": 9,
   "metadata": {
    "collapsed": false
   },
   "outputs": [
    {
     "data": {
      "text/plain": [
       "2    14030\n",
       "1    10585\n",
       "3     4917\n",
       "4      468\n",
       "Name: EDUCATION, dtype: int64"
      ]
     },
     "execution_count": 9,
     "metadata": {},
     "output_type": "execute_result"
    }
   ],
   "source": [
    "fulldata.EDUCATION[fulldata.EDUCATION=='0']='4'\n",
    "fulldata.EDUCATION[fulldata.EDUCATION=='5']='4'\n",
    "fulldata.EDUCATION[fulldata.EDUCATION=='6']='4'\n",
    "\n",
    "fulldata.EDUCATION.value_counts()"
   ]
  },
  {
   "cell_type": "code",
   "execution_count": 10,
   "metadata": {
    "collapsed": false
   },
   "outputs": [
    {
     "data": {
      "text/plain": [
       "array(['2', '1', '3', '4'], dtype=object)"
      ]
     },
     "execution_count": 10,
     "metadata": {},
     "output_type": "execute_result"
    }
   ],
   "source": [
    "fulldata.EDUCATION.unique()"
   ]
  },
  {
   "cell_type": "code",
   "execution_count": 11,
   "metadata": {
    "collapsed": false
   },
   "outputs": [
    {
     "data": {
      "text/plain": [
       "2    15964\n",
       "1    13659\n",
       "3      323\n",
       "0       54\n",
       "Name: MARRIAGE, dtype: int64"
      ]
     },
     "execution_count": 11,
     "metadata": {},
     "output_type": "execute_result"
    }
   ],
   "source": [
    "#checking the range of values in Marriage and making it meaningful\n",
    "fulldata['MARRIAGE'].value_counts()"
   ]
  },
  {
   "cell_type": "code",
   "execution_count": 12,
   "metadata": {
    "collapsed": false
   },
   "outputs": [
    {
     "data": {
      "text/plain": [
       "2    15964\n",
       "1    13659\n",
       "3      377\n",
       "Name: MARRIAGE, dtype: int64"
      ]
     },
     "execution_count": 12,
     "metadata": {},
     "output_type": "execute_result"
    }
   ],
   "source": [
    "fulldata.MARRIAGE[fulldata.MARRIAGE=='0']='3'\n",
    "fulldata.MARRIAGE.unique()\n",
    "fulldata.MARRIAGE.value_counts()"
   ]
  },
  {
   "cell_type": "code",
   "execution_count": 13,
   "metadata": {
    "collapsed": false
   },
   "outputs": [],
   "source": [
    "import numpy as np # linear algebra\n",
    "import pandas as pd # data processing, CSV file I/O (e.g. pd.read_csv)\n",
    "%matplotlib inline"
   ]
  },
  {
   "cell_type": "code",
   "execution_count": 14,
   "metadata": {
    "collapsed": false
   },
   "outputs": [
    {
     "data": {
      "text/html": [
       "<div>\n",
       "<table border=\"1\" class=\"dataframe\">\n",
       "  <thead>\n",
       "    <tr style=\"text-align: right;\">\n",
       "      <th>ID</th>\n",
       "      <th>SEX</th>\n",
       "      <th>EDUCATION</th>\n",
       "      <th>MARRIAGE</th>\n",
       "    </tr>\n",
       "  </thead>\n",
       "  <tbody>\n",
       "    <tr>\n",
       "      <th>count</th>\n",
       "      <td>30000</td>\n",
       "      <td>30000</td>\n",
       "      <td>30000</td>\n",
       "    </tr>\n",
       "    <tr>\n",
       "      <th>unique</th>\n",
       "      <td>2</td>\n",
       "      <td>4</td>\n",
       "      <td>3</td>\n",
       "    </tr>\n",
       "    <tr>\n",
       "      <th>top</th>\n",
       "      <td>2</td>\n",
       "      <td>2</td>\n",
       "      <td>2</td>\n",
       "    </tr>\n",
       "    <tr>\n",
       "      <th>freq</th>\n",
       "      <td>18112</td>\n",
       "      <td>14030</td>\n",
       "      <td>15964</td>\n",
       "    </tr>\n",
       "  </tbody>\n",
       "</table>\n",
       "</div>"
      ],
      "text/plain": [
       "ID        SEX EDUCATION MARRIAGE\n",
       "count   30000     30000    30000\n",
       "unique      2         4        3\n",
       "top         2         2        2\n",
       "freq    18112     14030    15964"
      ]
     },
     "execution_count": 14,
     "metadata": {},
     "output_type": "execute_result"
    }
   ],
   "source": [
    "fulldata[['SEX', 'EDUCATION', 'MARRIAGE']].describe()"
   ]
  },
  {
   "cell_type": "code",
   "execution_count": null,
   "metadata": {
    "collapsed": false
   },
   "outputs": [],
   "source": [
    "#renaming the header for Pay_0 to Pay_1"
   ]
  },
  {
   "cell_type": "code",
   "execution_count": 15,
   "metadata": {
    "collapsed": false
   },
   "outputs": [],
   "source": [
    "def fix_header(data):\n",
    "    data.rename(columns={'PAY_0':'PAY_1'},inplace=True)\n",
    "    return data\n",
    "fulldata=fix_header(fulldata)"
   ]
  },
  {
   "cell_type": "code",
   "execution_count": 16,
   "metadata": {
    "collapsed": false
   },
   "outputs": [
    {
     "data": {
      "text/html": [
       "<div>\n",
       "<table border=\"1\" class=\"dataframe\">\n",
       "  <thead>\n",
       "    <tr style=\"text-align: right;\">\n",
       "      <th>ID</th>\n",
       "      <th>LIMIT_BAL</th>\n",
       "      <th>SEX</th>\n",
       "      <th>EDUCATION</th>\n",
       "      <th>MARRIAGE</th>\n",
       "      <th>AGE</th>\n",
       "      <th>PAY_1</th>\n",
       "      <th>PAY_2</th>\n",
       "      <th>PAY_3</th>\n",
       "      <th>PAY_4</th>\n",
       "      <th>PAY_5</th>\n",
       "      <th>PAY_6</th>\n",
       "      <th>BILL_AMT1</th>\n",
       "      <th>BILL_AMT2</th>\n",
       "      <th>BILL_AMT3</th>\n",
       "      <th>BILL_AMT4</th>\n",
       "      <th>BILL_AMT5</th>\n",
       "      <th>BILL_AMT6</th>\n",
       "      <th>PAY_AMT1</th>\n",
       "      <th>PAY_AMT2</th>\n",
       "      <th>PAY_AMT3</th>\n",
       "      <th>PAY_AMT4</th>\n",
       "      <th>PAY_AMT5</th>\n",
       "      <th>PAY_AMT6</th>\n",
       "      <th>DEFAULTER</th>\n",
       "    </tr>\n",
       "  </thead>\n",
       "  <tbody>\n",
       "    <tr>\n",
       "      <th>1</th>\n",
       "      <td>20000</td>\n",
       "      <td>2</td>\n",
       "      <td>2</td>\n",
       "      <td>1</td>\n",
       "      <td>24</td>\n",
       "      <td>2</td>\n",
       "      <td>2</td>\n",
       "      <td>-1</td>\n",
       "      <td>-1</td>\n",
       "      <td>-2</td>\n",
       "      <td>-2</td>\n",
       "      <td>3913</td>\n",
       "      <td>3102</td>\n",
       "      <td>689</td>\n",
       "      <td>0</td>\n",
       "      <td>0</td>\n",
       "      <td>0</td>\n",
       "      <td>0</td>\n",
       "      <td>689</td>\n",
       "      <td>0</td>\n",
       "      <td>0</td>\n",
       "      <td>0</td>\n",
       "      <td>0</td>\n",
       "      <td>1</td>\n",
       "    </tr>\n",
       "    <tr>\n",
       "      <th>2</th>\n",
       "      <td>120000</td>\n",
       "      <td>2</td>\n",
       "      <td>2</td>\n",
       "      <td>2</td>\n",
       "      <td>26</td>\n",
       "      <td>-1</td>\n",
       "      <td>2</td>\n",
       "      <td>0</td>\n",
       "      <td>0</td>\n",
       "      <td>0</td>\n",
       "      <td>2</td>\n",
       "      <td>2682</td>\n",
       "      <td>1725</td>\n",
       "      <td>2682</td>\n",
       "      <td>3272</td>\n",
       "      <td>3455</td>\n",
       "      <td>3261</td>\n",
       "      <td>0</td>\n",
       "      <td>1000</td>\n",
       "      <td>1000</td>\n",
       "      <td>1000</td>\n",
       "      <td>0</td>\n",
       "      <td>2000</td>\n",
       "      <td>1</td>\n",
       "    </tr>\n",
       "    <tr>\n",
       "      <th>3</th>\n",
       "      <td>90000</td>\n",
       "      <td>2</td>\n",
       "      <td>2</td>\n",
       "      <td>2</td>\n",
       "      <td>34</td>\n",
       "      <td>0</td>\n",
       "      <td>0</td>\n",
       "      <td>0</td>\n",
       "      <td>0</td>\n",
       "      <td>0</td>\n",
       "      <td>0</td>\n",
       "      <td>29239</td>\n",
       "      <td>14027</td>\n",
       "      <td>13559</td>\n",
       "      <td>14331</td>\n",
       "      <td>14948</td>\n",
       "      <td>15549</td>\n",
       "      <td>1518</td>\n",
       "      <td>1500</td>\n",
       "      <td>1000</td>\n",
       "      <td>1000</td>\n",
       "      <td>1000</td>\n",
       "      <td>5000</td>\n",
       "      <td>0</td>\n",
       "    </tr>\n",
       "    <tr>\n",
       "      <th>4</th>\n",
       "      <td>50000</td>\n",
       "      <td>2</td>\n",
       "      <td>2</td>\n",
       "      <td>1</td>\n",
       "      <td>37</td>\n",
       "      <td>0</td>\n",
       "      <td>0</td>\n",
       "      <td>0</td>\n",
       "      <td>0</td>\n",
       "      <td>0</td>\n",
       "      <td>0</td>\n",
       "      <td>46990</td>\n",
       "      <td>48233</td>\n",
       "      <td>49291</td>\n",
       "      <td>28314</td>\n",
       "      <td>28959</td>\n",
       "      <td>29547</td>\n",
       "      <td>2000</td>\n",
       "      <td>2019</td>\n",
       "      <td>1200</td>\n",
       "      <td>1100</td>\n",
       "      <td>1069</td>\n",
       "      <td>1000</td>\n",
       "      <td>0</td>\n",
       "    </tr>\n",
       "    <tr>\n",
       "      <th>5</th>\n",
       "      <td>50000</td>\n",
       "      <td>1</td>\n",
       "      <td>2</td>\n",
       "      <td>1</td>\n",
       "      <td>57</td>\n",
       "      <td>-1</td>\n",
       "      <td>0</td>\n",
       "      <td>-1</td>\n",
       "      <td>0</td>\n",
       "      <td>0</td>\n",
       "      <td>0</td>\n",
       "      <td>8617</td>\n",
       "      <td>5670</td>\n",
       "      <td>35835</td>\n",
       "      <td>20940</td>\n",
       "      <td>19146</td>\n",
       "      <td>19131</td>\n",
       "      <td>2000</td>\n",
       "      <td>36681</td>\n",
       "      <td>10000</td>\n",
       "      <td>9000</td>\n",
       "      <td>689</td>\n",
       "      <td>679</td>\n",
       "      <td>0</td>\n",
       "    </tr>\n",
       "  </tbody>\n",
       "</table>\n",
       "</div>"
      ],
      "text/plain": [
       "ID LIMIT_BAL SEX EDUCATION MARRIAGE AGE PAY_1 PAY_2 PAY_3 PAY_4 PAY_5 PAY_6  \\\n",
       "1      20000   2         2        1  24     2     2    -1    -1    -2    -2   \n",
       "2     120000   2         2        2  26    -1     2     0     0     0     2   \n",
       "3      90000   2         2        2  34     0     0     0     0     0     0   \n",
       "4      50000   2         2        1  37     0     0     0     0     0     0   \n",
       "5      50000   1         2        1  57    -1     0    -1     0     0     0   \n",
       "\n",
       "ID BILL_AMT1 BILL_AMT2 BILL_AMT3 BILL_AMT4 BILL_AMT5 BILL_AMT6 PAY_AMT1  \\\n",
       "1       3913      3102       689         0         0         0        0   \n",
       "2       2682      1725      2682      3272      3455      3261        0   \n",
       "3      29239     14027     13559     14331     14948     15549     1518   \n",
       "4      46990     48233     49291     28314     28959     29547     2000   \n",
       "5       8617      5670     35835     20940     19146     19131     2000   \n",
       "\n",
       "ID PAY_AMT2 PAY_AMT3 PAY_AMT4 PAY_AMT5 PAY_AMT6 DEFAULTER  \n",
       "1       689        0        0        0        0         1  \n",
       "2      1000     1000     1000        0     2000         1  \n",
       "3      1500     1000     1000     1000     5000         0  \n",
       "4      2019     1200     1100     1069     1000         0  \n",
       "5     36681    10000     9000      689      679         0  "
      ]
     },
     "execution_count": 16,
     "metadata": {},
     "output_type": "execute_result"
    }
   ],
   "source": [
    "fulldata.head()"
   ]
  },
  {
   "cell_type": "code",
   "execution_count": 17,
   "metadata": {
    "collapsed": false
   },
   "outputs": [],
   "source": [
    "def draw_histograms(df, variables, n_rows, n_cols, n_bins):\n",
    "    fig=plt.figure()\n",
    "    for i, var_name in enumerate(variables):\n",
    "        ax=fig.add_subplot(n_rows,n_cols,i+1)\n",
    "        df[var_name].hist(bins=n_bins,ax=ax)\n",
    "        ax.set_title(var_name)\n",
    "    fig.tight_layout()  # Improves appearance a bit.\n",
    "    plt.show()\n",
    "\n",
    "fulldata=fulldata.astype(float)"
   ]
  },
  {
   "cell_type": "code",
   "execution_count": 18,
   "metadata": {
    "collapsed": false
   },
   "outputs": [],
   "source": [
    "#making the values in PAY_number meaningful by removing the negative values in it\n",
    "\n",
    "fil = (fulldata.PAY_1 ==-2) | (fulldata.PAY_1 ==-1) | (fulldata.PAY_1 ==0)\n",
    "fulldata.loc[fil, 'PAY_1'] =0\n",
    "\n",
    "fil = (fulldata.PAY_2 ==-2) | (fulldata.PAY_2 ==-1) | (fulldata.PAY_2 ==0)\n",
    "fulldata.loc[fil, 'PAY_2'] =0\n",
    "\n",
    "fil = (fulldata.PAY_3 ==-2) | (fulldata.PAY_3 == -1) | (fulldata.PAY_3 ==0)\n",
    "fulldata.loc[fil, 'PAY_3'] =0\n",
    "\n",
    "\n",
    "fil = (fulldata.PAY_4 ==-2) | (fulldata.PAY_4 ==-1) | (fulldata.PAY_4 ==0)\n",
    "fulldata.loc[fil, 'PAY_4'] =0\n",
    "\n",
    "\n",
    "fil = (fulldata.PAY_5 ==-2) | (fulldata.PAY_5 == -1) | (fulldata.PAY_5 ==0)\n",
    "fulldata.loc[fil, 'PAY_5'] =0\n",
    "\n",
    "\n",
    "fil = (fulldata.PAY_6 ==-2) | (fulldata.PAY_6== -1) | (fulldata.PAY_6 ==0)\n",
    "fulldata.loc[fil, 'PAY_6'] =0\n",
    "\n",
    "\n"
   ]
  },
  {
   "cell_type": "code",
   "execution_count": null,
   "metadata": {
    "collapsed": false
   },
   "outputs": [],
   "source": [
    "#Histogram visualization of PAY column"
   ]
  },
  {
   "cell_type": "code",
   "execution_count": 19,
   "metadata": {
    "collapsed": false
   },
   "outputs": [
    {
     "data": {
      "image/png": "[encoded data removed]",
      "text/plain": [
       "<matplotlib.figure.Figure at 0xc2d4630>"
      ]
     },
     "metadata": {},
     "output_type": "display_data"
    }
   ],
   "source": [
    "late = fulldata[['PAY_1','PAY_2','PAY_3','PAY_4','PAY_5','PAY_6']]\n",
    "draw_histograms(late, late.columns, 2, 3, 10)"
   ]
  },
  {
   "cell_type": "code",
   "execution_count": null,
   "metadata": {
    "collapsed": true
   },
   "outputs": [],
   "source": [
    "# Finding outstanding amount trends"
   ]
  },
  {
   "cell_type": "code",
   "execution_count": 20,
   "metadata": {
    "collapsed": false
   },
   "outputs": [],
   "source": [
    "fulldata['out_bal_apr'] = ((fulldata['BILL_AMT5'] - (fulldata['BILL_AMT6'] - fulldata['PAY_AMT5'])))\n",
    "\n",
    "fulldata['out_bal_may'] = (fulldata['out_bal_apr'] +(fulldata['BILL_AMT4'] - (fulldata['BILL_AMT5'] - fulldata['PAY_AMT4'])))\n",
    "\n",
    "fulldata['out_bal_june'] = fulldata['out_bal_may']+(fulldata['BILL_AMT3'] - (fulldata['BILL_AMT4'] - fulldata['PAY_AMT3']))\n",
    "\n",
    "fulldata['out_bal_july'] =fulldata['out_bal_june']+ (fulldata['BILL_AMT2'] - (fulldata['BILL_AMT3'] - fulldata['PAY_AMT2']))\n",
    "fulldata['out_bal_aug'] =fulldata['out_bal_july']+ (fulldata['BILL_AMT1'] - (fulldata['BILL_AMT2'] - fulldata['PAY_AMT1']))\n"
   ]
  },
  {
   "cell_type": "code",
   "execution_count": 21,
   "metadata": {
    "collapsed": false
   },
   "outputs": [],
   "source": [
    "outstanding_apr=fulldata['out_bal_apr'].sum()\n",
    "outstanding_may=fulldata['out_bal_may'].sum()\n",
    "outstanding_june=fulldata['out_bal_june'].sum()\n",
    "outstanding_july=fulldata['out_bal_july'].sum()\n",
    "outstanding_aug=fulldata['out_bal_aug'].sum()\n"
   ]
  },
  {
   "cell_type": "code",
   "execution_count": 22,
   "metadata": {
    "collapsed": false
   },
   "outputs": [
    {
     "name": "stdout",
     "output_type": "stream",
     "text": [
      "187170846.0\n",
      "689776212.0\n",
      "1163623815.0\n"
     ]
    }
   ],
   "source": [
    "print outstanding_apr\n",
    "print outstanding_june\n",
    "print outstanding_aug"
   ]
  },
  {
   "cell_type": "code",
   "execution_count": 168,
   "metadata": {
    "collapsed": false
   },
   "outputs": [
    {
     "data": {
      "image/png": "[encoded data removed]",
      "text/plain": [
       "<matplotlib.figure.Figure at 0x27851f28>"
      ]
     },
     "metadata": {},
     "output_type": "display_data"
    }
   ],
   "source": [
    "import seaborn as sns\n",
    "ax = sns.barplot(x=\"tip\", y=\"day\", data=tips)"
   ]
  },
  {
   "cell_type": "code",
   "execution_count": 173,
   "metadata": {
    "collapsed": false
   },
   "outputs": [
    {
     "data": {
      "text/plain": [
       "[<matplotlib.text.Text at 0x41b64208>,\n",
       " <matplotlib.text.Text at 0x41847240>,\n",
       " <matplotlib.text.Text at 0x425317f0>,\n",
       " <matplotlib.text.Text at 0x4258cac8>,\n",
       " <matplotlib.text.Text at 0x4265cb00>]"
      ]
     },
     "execution_count": 173,
     "metadata": {},
     "output_type": "execute_result"
    },
    {
     "data": {
      "image/png": "[encoded data removed]",
      "text/plain": [
       "<matplotlib.figure.Figure at 0x3d7ccfd0>"
      ]
     },
     "metadata": {},
     "output_type": "display_data"
    }
   ],
   "source": [
    "names  = ['April', 'May', 'June', 'July', 'August']\n",
    "values = [outstanding_apr,outstanding_may,outstanding_june,outstanding_july,outstanding_aug]\n",
    "plt.xlabel('Outstanding Balance in billions')\n",
    "plt.ylabel('Months')\n",
    "plt.title('Outstanding Balance Analysis-in billions')\n",
    "sns.set_style(\"whitegrid\")\n",
    "\n",
    "ax = sns.barplot(x = values, y = names)\n",
    "ax.set_yticklabels(['April', 'May', 'June', 'July', 'August'])"
   ]
  },
  {
   "cell_type": "code",
   "execution_count": null,
   "metadata": {
    "collapsed": false
   },
   "outputs": [],
   "source": [
    "#Number of customers with outstanding amount "
   ]
  },
  {
   "cell_type": "code",
   "execution_count": 24,
   "metadata": {
    "collapsed": false
   },
   "outputs": [
    {
     "data": {
      "text/plain": [
       "0    30000\n",
       "Name: out_bucket, dtype: int64"
      ]
     },
     "execution_count": 24,
     "metadata": {},
     "output_type": "execute_result"
    }
   ],
   "source": [
    "fulldata['out_bucket']='0'\n",
    "fulldata.out_bucket.value_counts()"
   ]
  },
  {
   "cell_type": "code",
   "execution_count": 145,
   "metadata": {
    "collapsed": false
   },
   "outputs": [
    {
     "data": {
      "text/plain": [
       "5    6126\n",
       "6    5718\n",
       "3    5642\n",
       "7    4187\n",
       "4    3652\n",
       "8    2800\n",
       "1    1210\n",
       "2     665\n",
       "Name: out_bucket, dtype: int64"
      ]
     },
     "execution_count": 145,
     "metadata": {},
     "output_type": "execute_result"
    }
   ],
   "source": [
    "fulldata.loc[fulldata['out_bal_aug']<=0, 'out_bucket']=1\n",
    "fulldata.loc[((fulldata['out_bal_aug']>0)&(fulldata['out_bal_aug']<1000)),'out_bucket']=2\n",
    "fulldata.loc[((fulldata['out_bal_aug']>=1000)&(fulldata['out_bal_aug']<5000)),'out_bucket']=3\n",
    "fulldata.loc[((fulldata['out_bal_aug']>=5000)&(fulldata['out_bal_aug']<10000)),'out_bucket']=4\n",
    "fulldata.loc[((fulldata['out_bal_aug']>=10000)&(fulldata['out_bal_aug']<25000)),'out_bucket']=5\n",
    "fulldata.loc[((fulldata['out_bal_aug']>=25000)&(fulldata['out_bal_aug']<50000)),'out_bucket']=6\n",
    "fulldata.loc[((fulldata['out_bal_aug']>=50000)&(fulldata['out_bal_aug']<100000)),'out_bucket']=7\n",
    "fulldata.loc[(fulldata['out_bal_aug']>=100000),'out_bucket']=8\n",
    "fulldata.out_bucket.value_counts()"
   ]
  },
  {
   "cell_type": "code",
   "execution_count": 156,
   "metadata": {
    "collapsed": false
   },
   "outputs": [
    {
     "name": "stdout",
     "output_type": "stream",
     "text": [
      "1\n",
      "665\n"
     ]
    }
   ],
   "source": [
    "\n",
    "import pandas as pd\n",
    "out_names= fulldata['out_bucket'].value_counts(sort=False,ascending=False).keys().tolist()\n",
    "\n",
    "out_counts = fulldata['out_bucket'].value_counts(sort=False, ascending=False).tolist()\n",
    "print out_names[0]\n",
    "\n",
    "print out_counts[1]"
   ]
  },
  {
   "cell_type": "code",
   "execution_count": 172,
   "metadata": {
    "collapsed": false
   },
   "outputs": [
    {
     "data": {
      "text/plain": [
       "[<matplotlib.text.Text at 0x4047fcf8>,\n",
       " <matplotlib.text.Text at 0x3e410550>,\n",
       " <matplotlib.text.Text at 0x4105ca90>,\n",
       " <matplotlib.text.Text at 0x410c8208>,\n",
       " <matplotlib.text.Text at 0x41113240>,\n",
       " <matplotlib.text.Text at 0x411a1e80>,\n",
       " <matplotlib.text.Text at 0x41273ba8>,\n",
       " <matplotlib.text.Text at 0x412febe0>]"
      ]
     },
     "execution_count": 172,
     "metadata": {},
     "output_type": "execute_result"
    },
    {
     "data": {
      "image/png": "[encoded data removed]",
      "text/plain": [
       "<matplotlib.figure.Figure at 0x3f574cf8>"
      ]
     },
     "metadata": {},
     "output_type": "display_data"
    }
   ],
   "source": [
    "out_names_alias=['0','1 to 1K','1K to 5K','5K to 10K','10K to 25K','25K to 50K','50K to 100K','>100K']\n",
    "out_counts_alias=[out_counts[0],out_counts[1],out_counts[2],out_counts[3],out_counts[4],out_counts[5],out_counts[6],out_counts[7]]\n",
    "plt.xlabel('number of customers')\n",
    "plt.ylabel('outstanding bucket')\n",
    "plt.title('Number of customers with outstanding ')\n",
    "ax = sns.barplot(x = out_counts_alias, y = out_names_alias)\n",
    "ax.set_yticklabels(['0','1 to 1K','1K to 5K','5K to 10K','10K to 25K','25K to 50K','50K to 100K','>100K'])"
   ]
  },
  {
   "cell_type": "code",
   "execution_count": null,
   "metadata": {
    "collapsed": true
   },
   "outputs": [],
   "source": [
    "#Age of outstanding amount analysis"
   ]
  },
  {
   "cell_type": "code",
   "execution_count": 115,
   "metadata": {
    "collapsed": false
   },
   "outputs": [
    {
     "data": {
      "text/plain": [
       "<matplotlib.axes._subplots.AxesSubplot at 0x1a5308d0>"
      ]
     },
     "execution_count": 115,
     "metadata": {},
     "output_type": "execute_result"
    },
    {
     "data": {
      "image/png": "[encoded data removed]",
      "text/plain": [
       "<matplotlib.figure.Figure at 0x25743438>"
      ]
     },
     "metadata": {},
     "output_type": "display_data"
    }
   ],
   "source": [
    "fulldata['AgeBin'] =0 #creates a column of 0\n",
    "fulldata.loc[((fulldata['AGE'] > 20) & (fulldata['AGE'] < 30)) , 'AgeBin'] = 1\n",
    "fulldata.loc[((fulldata['AGE'] >= 30) & (fulldata['AGE'] < 40)) , 'AgeBin'] = 2\n",
    "fulldata.loc[((fulldata['AGE'] >= 40) & (fulldata['AGE'] < 50)) , 'AgeBin'] = 3\n",
    "fulldata.loc[((fulldata['AGE'] >= 50) & (fulldata['AGE'] < 60)) , 'AgeBin'] = 4\n",
    "fulldata.loc[((fulldata['AGE'] >= 60) & (fulldata['AGE'] < 70)) , 'AgeBin'] = 5\n",
    "fulldata.loc[((fulldata['AGE'] >= 70) & (fulldata['AGE'] < 81)) , 'AgeBin'] = 6\n",
    "fulldata.AgeBin.hist()"
   ]
  },
  {
   "cell_type": "code",
   "execution_count": 178,
   "metadata": {
    "collapsed": false
   },
   "outputs": [
    {
     "name": "stdout",
     "output_type": "stream",
     "text": [
      "1\n",
      "9618\n"
     ]
    }
   ],
   "source": [
    "\n",
    "out_names_age= fulldata['AgeBin'].value_counts(sort=False,ascending=False).keys().tolist()\n",
    "\n",
    "out_counts_age = fulldata['AgeBin'].value_counts(sort=False, ascending=False).tolist()\n",
    "print out_names_age[0]\n",
    "\n",
    "print out_counts_age[0]"
   ]
  },
  {
   "cell_type": "code",
   "execution_count": 183,
   "metadata": {
    "collapsed": false
   },
   "outputs": [
    {
     "data": {
      "text/plain": [
       "[<matplotlib.text.Text at 0x4b64cbe0>,\n",
       " <matplotlib.text.Text at 0x4b7c2518>,\n",
       " <matplotlib.text.Text at 0x4c280d30>,\n",
       " <matplotlib.text.Text at 0x4c191400>,\n",
       " <matplotlib.text.Text at 0x4c377128>,\n",
       " <matplotlib.text.Text at 0x4c3d47b8>]"
      ]
     },
     "execution_count": 183,
     "metadata": {},
     "output_type": "execute_result"
    },
    {
     "data": {
      "image/png": "[encoded data removed]",
      "text/plain": [
       "<matplotlib.figure.Figure at 0x4ad6bcc0>"
      ]
     },
     "metadata": {},
     "output_type": "display_data"
    }
   ],
   "source": [
    "out_names_age_alias=['20 to 30','30 to 40','40 to 50','50 to 60','60 to 70','70 to 81']\n",
    "out_counts_age_alias=[out_counts_age[0],out_counts_age[1],out_counts_age[2],out_counts_age[3],out_counts_age[4],out_counts_age[5]]\n",
    "plt.xlabel('Age bucket')\n",
    "plt.ylabel('Number of customers')\n",
    "plt.title('Number of customers with different Age Bucket')\n",
    "ax = sns.barplot(x = out_names_age_alias, y = out_counts_age_alias)\n",
    "ax.set_xticklabels(['20 to 30','30 to 40','40 to 50','50 to 60','60 to 70','70 to 81'])"
   ]
  },
  {
   "cell_type": "code",
   "execution_count": 28,
   "metadata": {
    "collapsed": true
   },
   "outputs": [],
   "source": [
    "def corr_2_cols(Col1, Col2):\n",
    "    res = fulldata.groupby([Col1, Col2]).size().unstack()\n",
    "    #res['perc'] = (res[res.columns[1]]/(res[res.columns[0]] + res[res.columns[1]]))\n",
    "    return res"
   ]
  },
  {
   "cell_type": "code",
   "execution_count": 29,
   "metadata": {
    "collapsed": false
   },
   "outputs": [
    {
     "data": {
      "text/html": [
       "<div>\n",
       "<table border=\"1\" class=\"dataframe\">\n",
       "  <thead>\n",
       "    <tr style=\"text-align: right;\">\n",
       "      <th>AgeBin</th>\n",
       "      <th>1</th>\n",
       "      <th>2</th>\n",
       "      <th>3</th>\n",
       "      <th>4</th>\n",
       "      <th>5</th>\n",
       "      <th>6</th>\n",
       "    </tr>\n",
       "    <tr>\n",
       "      <th>out_bucket</th>\n",
       "      <th></th>\n",
       "      <th></th>\n",
       "      <th></th>\n",
       "      <th></th>\n",
       "      <th></th>\n",
       "      <th></th>\n",
       "    </tr>\n",
       "  </thead>\n",
       "  <tbody>\n",
       "    <tr>\n",
       "      <th>1</th>\n",
       "      <td>325.0</td>\n",
       "      <td>485.0</td>\n",
       "      <td>276.0</td>\n",
       "      <td>93.0</td>\n",
       "      <td>28.0</td>\n",
       "      <td>3.0</td>\n",
       "    </tr>\n",
       "    <tr>\n",
       "      <th>2</th>\n",
       "      <td>223.0</td>\n",
       "      <td>274.0</td>\n",
       "      <td>125.0</td>\n",
       "      <td>37.0</td>\n",
       "      <td>6.0</td>\n",
       "      <td>NaN</td>\n",
       "    </tr>\n",
       "    <tr>\n",
       "      <th>3</th>\n",
       "      <td>1934.0</td>\n",
       "      <td>1886.0</td>\n",
       "      <td>1231.0</td>\n",
       "      <td>525.0</td>\n",
       "      <td>63.0</td>\n",
       "      <td>3.0</td>\n",
       "    </tr>\n",
       "    <tr>\n",
       "      <th>4</th>\n",
       "      <td>1288.0</td>\n",
       "      <td>1308.0</td>\n",
       "      <td>734.0</td>\n",
       "      <td>284.0</td>\n",
       "      <td>37.0</td>\n",
       "      <td>1.0</td>\n",
       "    </tr>\n",
       "    <tr>\n",
       "      <th>5</th>\n",
       "      <td>2134.0</td>\n",
       "      <td>2288.0</td>\n",
       "      <td>1232.0</td>\n",
       "      <td>413.0</td>\n",
       "      <td>54.0</td>\n",
       "      <td>5.0</td>\n",
       "    </tr>\n",
       "    <tr>\n",
       "      <th>6</th>\n",
       "      <td>1900.0</td>\n",
       "      <td>2110.0</td>\n",
       "      <td>1205.0</td>\n",
       "      <td>440.0</td>\n",
       "      <td>59.0</td>\n",
       "      <td>4.0</td>\n",
       "    </tr>\n",
       "    <tr>\n",
       "      <th>7</th>\n",
       "      <td>1208.0</td>\n",
       "      <td>1691.0</td>\n",
       "      <td>927.0</td>\n",
       "      <td>317.0</td>\n",
       "      <td>37.0</td>\n",
       "      <td>7.0</td>\n",
       "    </tr>\n",
       "    <tr>\n",
       "      <th>8</th>\n",
       "      <td>606.0</td>\n",
       "      <td>1196.0</td>\n",
       "      <td>734.0</td>\n",
       "      <td>232.0</td>\n",
       "      <td>30.0</td>\n",
       "      <td>2.0</td>\n",
       "    </tr>\n",
       "  </tbody>\n",
       "</table>\n",
       "</div>"
      ],
      "text/plain": [
       "AgeBin           1       2       3      4     5    6\n",
       "out_bucket                                          \n",
       "1            325.0   485.0   276.0   93.0  28.0  3.0\n",
       "2            223.0   274.0   125.0   37.0   6.0  NaN\n",
       "3           1934.0  1886.0  1231.0  525.0  63.0  3.0\n",
       "4           1288.0  1308.0   734.0  284.0  37.0  1.0\n",
       "5           2134.0  2288.0  1232.0  413.0  54.0  5.0\n",
       "6           1900.0  2110.0  1205.0  440.0  59.0  4.0\n",
       "7           1208.0  1691.0   927.0  317.0  37.0  7.0\n",
       "8            606.0  1196.0   734.0  232.0  30.0  2.0"
      ]
     },
     "execution_count": 29,
     "metadata": {},
     "output_type": "execute_result"
    }
   ],
   "source": [
    "\n",
    "corr_2_cols('out_bucket','AgeBin')\n"
   ]
  },
  {
   "cell_type": "code",
   "execution_count": 30,
   "metadata": {
    "collapsed": false
   },
   "outputs": [
    {
     "data": {
      "text/plain": [
       "<matplotlib.text.Text at 0xf4e15c0>"
      ]
     },
     "execution_count": 30,
     "metadata": {},
     "output_type": "execute_result"
    },
    {
     "data": {
      "image/png": "[encoded data removed]",
      "text/plain": [
       "<matplotlib.figure.Figure at 0xc63c780>"
      ]
     },
     "metadata": {},
     "output_type": "display_data"
    }
   ],
   "source": [
    "lab=['20 to 30','30 to 40','40 to 50','50 to 60','60 to 70','70 to 81']\n",
    "lab2=['0','1 to 1K','1K to 5K','5K to 10K','10K to 25K','25K to 50K','50K to 100K','>100K']\n",
    "age_outstanding=corr_2_cols('out_bucket', 'AgeBin')\n",
    "r=sns.heatmap(age_outstanding,annot=True,fmt=\"0.1f\",xticklabels=lab,yticklabels=lab2,linewidths=.5)\n",
    "r.set_title(\"Heatmap of Outstanding Balance and AgeBin\")"
   ]
  },
  {
   "cell_type": "code",
   "execution_count": null,
   "metadata": {
    "collapsed": true
   },
   "outputs": [],
   "source": [
    "# Based on our analysis,more clients between age group of 30 to 40 and 20 to 30 have an outstanding balance of range 10 K to 50K"
   ]
  },
  {
   "cell_type": "code",
   "execution_count": null,
   "metadata": {
    "collapsed": false
   },
   "outputs": [],
   "source": [
    "#finding relationship between in outstanding amount / trend with respect to age,education, marriage, credit limit"
   ]
  },
  {
   "cell_type": "code",
   "execution_count": 31,
   "metadata": {
    "collapsed": false
   },
   "outputs": [
    {
     "data": {
      "text/html": [
       "<div>\n",
       "<table border=\"1\" class=\"dataframe\">\n",
       "  <thead>\n",
       "    <tr style=\"text-align: right;\">\n",
       "      <th>EDUCATION</th>\n",
       "      <th>1.0</th>\n",
       "      <th>2.0</th>\n",
       "      <th>3.0</th>\n",
       "      <th>4.0</th>\n",
       "    </tr>\n",
       "    <tr>\n",
       "      <th>out_bucket</th>\n",
       "      <th></th>\n",
       "      <th></th>\n",
       "      <th></th>\n",
       "      <th></th>\n",
       "    </tr>\n",
       "  </thead>\n",
       "  <tbody>\n",
       "    <tr>\n",
       "      <th>1</th>\n",
       "      <td>571</td>\n",
       "      <td>441</td>\n",
       "      <td>183</td>\n",
       "      <td>15</td>\n",
       "    </tr>\n",
       "    <tr>\n",
       "      <th>2</th>\n",
       "      <td>263</td>\n",
       "      <td>307</td>\n",
       "      <td>88</td>\n",
       "      <td>7</td>\n",
       "    </tr>\n",
       "    <tr>\n",
       "      <th>3</th>\n",
       "      <td>1793</td>\n",
       "      <td>2745</td>\n",
       "      <td>1063</td>\n",
       "      <td>41</td>\n",
       "    </tr>\n",
       "    <tr>\n",
       "      <th>4</th>\n",
       "      <td>1219</td>\n",
       "      <td>1730</td>\n",
       "      <td>656</td>\n",
       "      <td>47</td>\n",
       "    </tr>\n",
       "    <tr>\n",
       "      <th>5</th>\n",
       "      <td>2183</td>\n",
       "      <td>2896</td>\n",
       "      <td>961</td>\n",
       "      <td>86</td>\n",
       "    </tr>\n",
       "    <tr>\n",
       "      <th>6</th>\n",
       "      <td>1858</td>\n",
       "      <td>2806</td>\n",
       "      <td>959</td>\n",
       "      <td>95</td>\n",
       "    </tr>\n",
       "    <tr>\n",
       "      <th>7</th>\n",
       "      <td>1534</td>\n",
       "      <td>1933</td>\n",
       "      <td>643</td>\n",
       "      <td>77</td>\n",
       "    </tr>\n",
       "    <tr>\n",
       "      <th>8</th>\n",
       "      <td>1164</td>\n",
       "      <td>1172</td>\n",
       "      <td>364</td>\n",
       "      <td>100</td>\n",
       "    </tr>\n",
       "  </tbody>\n",
       "</table>\n",
       "</div>"
      ],
      "text/plain": [
       "EDUCATION    1.0   2.0   3.0  4.0\n",
       "out_bucket                       \n",
       "1            571   441   183   15\n",
       "2            263   307    88    7\n",
       "3           1793  2745  1063   41\n",
       "4           1219  1730   656   47\n",
       "5           2183  2896   961   86\n",
       "6           1858  2806   959   95\n",
       "7           1534  1933   643   77\n",
       "8           1164  1172   364  100"
      ]
     },
     "execution_count": 31,
     "metadata": {},
     "output_type": "execute_result"
    }
   ],
   "source": [
    "corr_2_cols('out_bucket','EDUCATION')"
   ]
  },
  {
   "cell_type": "code",
   "execution_count": 32,
   "metadata": {
    "collapsed": false
   },
   "outputs": [
    {
     "data": {
      "text/plain": [
       "<matplotlib.text.Text at 0x1116d278>"
      ]
     },
     "execution_count": 32,
     "metadata": {},
     "output_type": "execute_result"
    },
    {
     "data": {
      "image/png": "[encoded data removed]",
      "text/plain": [
       "<matplotlib.figure.Figure at 0xf932588>"
      ]
     },
     "metadata": {},
     "output_type": "display_data"
    }
   ],
   "source": [
    "lab=['Grad_School','University','HighSchool','Others']\n",
    "lab2=['0','1 to 1K','1K to 5K','5K to 10K','10K to 25K','25K to 50K','50K to 100K','>100K']\n",
    "age_outstanding=corr_2_cols('out_bucket', 'EDUCATION')\n",
    "r=sns.heatmap(age_outstanding,annot=True,fmt=\"0.1f\",xticklabels=lab,yticklabels=lab2, linewidths=.8)\n",
    "r.set_title(\"Heatmap of Outstanding Balance and Education\")"
   ]
  },
  {
   "cell_type": "code",
   "execution_count": null,
   "metadata": {
    "collapsed": true
   },
   "outputs": [],
   "source": [
    "#Client having an university degree has more number of outstanding balance. "
   ]
  },
  {
   "cell_type": "code",
   "execution_count": 33,
   "metadata": {
    "collapsed": false
   },
   "outputs": [
    {
     "data": {
      "text/plain": [
       "<matplotlib.text.Text at 0x10eb9e80>"
      ]
     },
     "execution_count": 33,
     "metadata": {},
     "output_type": "execute_result"
    },
    {
     "data": {
      "image/png": "[encoded data removed]",
      "text/plain": [
       "<matplotlib.figure.Figure at 0xefdb710>"
      ]
     },
     "metadata": {},
     "output_type": "display_data"
    }
   ],
   "source": [
    "lab=['Married','Single','Others']\n",
    "lab2=['0','1 to 1K','1K to 5K','5K to 10K','10K to 25K','25K to 50K','50K to 100K','>100K']\n",
    "age_outstanding=corr_2_cols('out_bucket', 'MARRIAGE')\n",
    "r=sns.heatmap(age_outstanding,annot=True,fmt=\"0.1f\",xticklabels=lab,yticklabels=lab2, linewidths=.8)\n",
    "r.set_title(\"Heatmap of Outstanding Balance and Marriage\")"
   ]
  },
  {
   "cell_type": "code",
   "execution_count": null,
   "metadata": {
    "collapsed": true
   },
   "outputs": [],
   "source": [
    "#Client whose is single tends to have more number of outstanding balance"
   ]
  },
  {
   "cell_type": "code",
   "execution_count": 34,
   "metadata": {
    "collapsed": false
   },
   "outputs": [
    {
     "data": {
      "text/html": [
       "<div>\n",
       "<table border=\"1\" class=\"dataframe\">\n",
       "  <thead>\n",
       "    <tr style=\"text-align: right;\">\n",
       "      <th></th>\n",
       "      <th>out_bal_aug</th>\n",
       "      <th>AGE</th>\n",
       "      <th>EDUCATION</th>\n",
       "      <th>MARRIAGE</th>\n",
       "      <th>LIMIT_BAL</th>\n",
       "    </tr>\n",
       "  </thead>\n",
       "  <tbody>\n",
       "    <tr>\n",
       "      <th>1</th>\n",
       "      <td>4602.0</td>\n",
       "      <td>24.0</td>\n",
       "      <td>2.0</td>\n",
       "      <td>1.0</td>\n",
       "      <td>20000.0</td>\n",
       "    </tr>\n",
       "    <tr>\n",
       "      <th>2</th>\n",
       "      <td>2421.0</td>\n",
       "      <td>26.0</td>\n",
       "      <td>2.0</td>\n",
       "      <td>2.0</td>\n",
       "      <td>120000.0</td>\n",
       "    </tr>\n",
       "    <tr>\n",
       "      <th>3</th>\n",
       "      <td>19708.0</td>\n",
       "      <td>34.0</td>\n",
       "      <td>2.0</td>\n",
       "      <td>2.0</td>\n",
       "      <td>90000.0</td>\n",
       "    </tr>\n",
       "    <tr>\n",
       "      <th>4</th>\n",
       "      <td>24831.0</td>\n",
       "      <td>37.0</td>\n",
       "      <td>2.0</td>\n",
       "      <td>1.0</td>\n",
       "      <td>50000.0</td>\n",
       "    </tr>\n",
       "    <tr>\n",
       "      <th>5</th>\n",
       "      <td>47856.0</td>\n",
       "      <td>57.0</td>\n",
       "      <td>2.0</td>\n",
       "      <td>1.0</td>\n",
       "      <td>50000.0</td>\n",
       "    </tr>\n",
       "  </tbody>\n",
       "</table>\n",
       "</div>"
      ],
      "text/plain": [
       "   out_bal_aug   AGE  EDUCATION  MARRIAGE  LIMIT_BAL\n",
       "1       4602.0  24.0        2.0       1.0    20000.0\n",
       "2       2421.0  26.0        2.0       2.0   120000.0\n",
       "3      19708.0  34.0        2.0       2.0    90000.0\n",
       "4      24831.0  37.0        2.0       1.0    50000.0\n",
       "5      47856.0  57.0        2.0       1.0    50000.0"
      ]
     },
     "execution_count": 34,
     "metadata": {},
     "output_type": "execute_result"
    }
   ],
   "source": [
    "df=pd.DataFrame(fulldata,columns=['out_bal_aug','AGE','EDUCATION','MARRIAGE','LIMIT_BAL'])\n",
    "df.head()"
   ]
  },
  {
   "cell_type": "code",
   "execution_count": 36,
   "metadata": {
    "collapsed": false
   },
   "outputs": [],
   "source": [
    "fulldata['gender_marital']=0\n",
    "fulldata.loc[((fulldata.SEX == 1) & (fulldata.MARRIAGE == 1)) , 'gender_marital'] = 1 #married man\n",
    "fulldata.loc[((fulldata.SEX == 1) & (fulldata.MARRIAGE == 2)) , 'gender_marital'] = 2 #single man\n",
    "fulldata.loc[((fulldata.SEX == 1) & (fulldata.MARRIAGE == 3)) , 'gender_marital'] = 3 #divorced man\n",
    "fulldata.loc[((fulldata.SEX == 2) & (fulldata.MARRIAGE == 1)) , 'gender_marital'] = 4 #married women\n",
    "fulldata.loc[((fulldata.SEX == 2) & (fulldata.MARRIAGE == 2)) , 'gender_marital'] = 5 #single women\n",
    "fulldata.loc[((fulldata.SEX == 2) & (fulldata.MARRIAGE == 3)) , 'gender_marital'] = 6 #divorced women"
   ]
  },
  {
   "cell_type": "code",
   "execution_count": 37,
   "metadata": {
    "collapsed": false
   },
   "outputs": [
    {
     "data": {
      "text/html": [
       "<div>\n",
       "<table border=\"1\" class=\"dataframe\">\n",
       "  <thead>\n",
       "    <tr style=\"text-align: right;\">\n",
       "      <th>gender_marital</th>\n",
       "      <th>1</th>\n",
       "      <th>2</th>\n",
       "      <th>3</th>\n",
       "      <th>4</th>\n",
       "      <th>5</th>\n",
       "      <th>6</th>\n",
       "    </tr>\n",
       "    <tr>\n",
       "      <th>out_bucket</th>\n",
       "      <th></th>\n",
       "      <th></th>\n",
       "      <th></th>\n",
       "      <th></th>\n",
       "      <th></th>\n",
       "      <th></th>\n",
       "    </tr>\n",
       "  </thead>\n",
       "  <tbody>\n",
       "    <tr>\n",
       "      <th>1</th>\n",
       "      <td>225</td>\n",
       "      <td>237</td>\n",
       "      <td>3</td>\n",
       "      <td>391</td>\n",
       "      <td>347</td>\n",
       "      <td>7</td>\n",
       "    </tr>\n",
       "    <tr>\n",
       "      <th>2</th>\n",
       "      <td>86</td>\n",
       "      <td>128</td>\n",
       "      <td>4</td>\n",
       "      <td>192</td>\n",
       "      <td>248</td>\n",
       "      <td>7</td>\n",
       "    </tr>\n",
       "    <tr>\n",
       "      <th>3</th>\n",
       "      <td>1025</td>\n",
       "      <td>1302</td>\n",
       "      <td>34</td>\n",
       "      <td>1558</td>\n",
       "      <td>1671</td>\n",
       "      <td>52</td>\n",
       "    </tr>\n",
       "    <tr>\n",
       "      <th>4</th>\n",
       "      <td>600</td>\n",
       "      <td>787</td>\n",
       "      <td>16</td>\n",
       "      <td>1036</td>\n",
       "      <td>1183</td>\n",
       "      <td>30</td>\n",
       "    </tr>\n",
       "    <tr>\n",
       "      <th>5</th>\n",
       "      <td>955</td>\n",
       "      <td>1280</td>\n",
       "      <td>34</td>\n",
       "      <td>1753</td>\n",
       "      <td>2056</td>\n",
       "      <td>48</td>\n",
       "    </tr>\n",
       "    <tr>\n",
       "      <th>6</th>\n",
       "      <td>954</td>\n",
       "      <td>1278</td>\n",
       "      <td>27</td>\n",
       "      <td>1566</td>\n",
       "      <td>1854</td>\n",
       "      <td>39</td>\n",
       "    </tr>\n",
       "    <tr>\n",
       "      <th>7</th>\n",
       "      <td>725</td>\n",
       "      <td>920</td>\n",
       "      <td>21</td>\n",
       "      <td>1193</td>\n",
       "      <td>1297</td>\n",
       "      <td>31</td>\n",
       "    </tr>\n",
       "    <tr>\n",
       "      <th>8</th>\n",
       "      <td>620</td>\n",
       "      <td>621</td>\n",
       "      <td>6</td>\n",
       "      <td>780</td>\n",
       "      <td>755</td>\n",
       "      <td>18</td>\n",
       "    </tr>\n",
       "  </tbody>\n",
       "</table>\n",
       "</div>"
      ],
      "text/plain": [
       "gender_marital     1     2   3     4     5   6\n",
       "out_bucket                                    \n",
       "1                225   237   3   391   347   7\n",
       "2                 86   128   4   192   248   7\n",
       "3               1025  1302  34  1558  1671  52\n",
       "4                600   787  16  1036  1183  30\n",
       "5                955  1280  34  1753  2056  48\n",
       "6                954  1278  27  1566  1854  39\n",
       "7                725   920  21  1193  1297  31\n",
       "8                620   621   6   780   755  18"
      ]
     },
     "execution_count": 37,
     "metadata": {},
     "output_type": "execute_result"
    }
   ],
   "source": [
    "corr_2_cols('out_bucket','gender_marital')"
   ]
  },
  {
   "cell_type": "code",
   "execution_count": 38,
   "metadata": {
    "collapsed": false
   },
   "outputs": [
    {
     "data": {
      "text/plain": [
       "<matplotlib.text.Text at 0x11052278>"
      ]
     },
     "execution_count": 38,
     "metadata": {},
     "output_type": "execute_result"
    },
    {
     "data": {
      "image/png": "[encoded data removed]",
      "text/plain": [
       "<matplotlib.figure.Figure at 0xf93c080>"
      ]
     },
     "metadata": {},
     "output_type": "display_data"
    }
   ],
   "source": [
    "lab=['Married man','single man','divorced man','married women','single women','divorced women']\n",
    "lab2=['0','1 to 1K','1K to 5K','5K to 10K','10K to 25K','25K to 50K','50K to 100K','>100K']\n",
    "age_outstanding=corr_2_cols('out_bucket', 'gender_marital')\n",
    "r=sns.heatmap(age_outstanding,annot=True,fmt=\"0.1f\",xticklabels=lab,yticklabels=lab2, linewidths=.8)\n",
    "r.set_title(\"Heatmap of Outstanding Balance and gender_marital\")"
   ]
  },
  {
   "cell_type": "code",
   "execution_count": null,
   "metadata": {
    "collapsed": true
   },
   "outputs": [],
   "source": [
    "#Clients who are single women has more number of outstanding balance"
   ]
  },
  {
   "cell_type": "code",
   "execution_count": 39,
   "metadata": {
    "collapsed": false
   },
   "outputs": [
    {
     "data": {
      "text/html": [
       "<div>\n",
       "<table border=\"1\" class=\"dataframe\">\n",
       "  <thead>\n",
       "    <tr style=\"text-align: right;\">\n",
       "      <th>gender_agebin</th>\n",
       "      <th>0</th>\n",
       "      <th>1</th>\n",
       "      <th>2</th>\n",
       "      <th>3</th>\n",
       "      <th>4</th>\n",
       "      <th>5</th>\n",
       "      <th>6</th>\n",
       "      <th>7</th>\n",
       "      <th>8</th>\n",
       "      <th>9</th>\n",
       "      <th>10</th>\n",
       "    </tr>\n",
       "    <tr>\n",
       "      <th>out_bucket</th>\n",
       "      <th></th>\n",
       "      <th></th>\n",
       "      <th></th>\n",
       "      <th></th>\n",
       "      <th></th>\n",
       "      <th></th>\n",
       "      <th></th>\n",
       "      <th></th>\n",
       "      <th></th>\n",
       "      <th></th>\n",
       "      <th></th>\n",
       "    </tr>\n",
       "  </thead>\n",
       "  <tbody>\n",
       "    <tr>\n",
       "      <th>1</th>\n",
       "      <td>3.0</td>\n",
       "      <td>134.0</td>\n",
       "      <td>174.0</td>\n",
       "      <td>99.0</td>\n",
       "      <td>44.0</td>\n",
       "      <td>12.0</td>\n",
       "      <td>191.0</td>\n",
       "      <td>311.0</td>\n",
       "      <td>177.0</td>\n",
       "      <td>49.0</td>\n",
       "      <td>16.0</td>\n",
       "    </tr>\n",
       "    <tr>\n",
       "      <th>2</th>\n",
       "      <td>NaN</td>\n",
       "      <td>69.0</td>\n",
       "      <td>91.0</td>\n",
       "      <td>49.0</td>\n",
       "      <td>9.0</td>\n",
       "      <td>NaN</td>\n",
       "      <td>154.0</td>\n",
       "      <td>183.0</td>\n",
       "      <td>76.0</td>\n",
       "      <td>28.0</td>\n",
       "      <td>6.0</td>\n",
       "    </tr>\n",
       "    <tr>\n",
       "      <th>3</th>\n",
       "      <td>3.0</td>\n",
       "      <td>747.0</td>\n",
       "      <td>802.0</td>\n",
       "      <td>529.0</td>\n",
       "      <td>243.0</td>\n",
       "      <td>38.0</td>\n",
       "      <td>1187.0</td>\n",
       "      <td>1084.0</td>\n",
       "      <td>702.0</td>\n",
       "      <td>282.0</td>\n",
       "      <td>25.0</td>\n",
       "    </tr>\n",
       "    <tr>\n",
       "      <th>4</th>\n",
       "      <td>1.0</td>\n",
       "      <td>420.0</td>\n",
       "      <td>530.0</td>\n",
       "      <td>317.0</td>\n",
       "      <td>120.0</td>\n",
       "      <td>15.0</td>\n",
       "      <td>868.0</td>\n",
       "      <td>778.0</td>\n",
       "      <td>417.0</td>\n",
       "      <td>164.0</td>\n",
       "      <td>22.0</td>\n",
       "    </tr>\n",
       "    <tr>\n",
       "      <th>5</th>\n",
       "      <td>5.0</td>\n",
       "      <td>664.0</td>\n",
       "      <td>874.0</td>\n",
       "      <td>515.0</td>\n",
       "      <td>189.0</td>\n",
       "      <td>25.0</td>\n",
       "      <td>1470.0</td>\n",
       "      <td>1414.0</td>\n",
       "      <td>717.0</td>\n",
       "      <td>224.0</td>\n",
       "      <td>29.0</td>\n",
       "    </tr>\n",
       "    <tr>\n",
       "      <th>6</th>\n",
       "      <td>4.0</td>\n",
       "      <td>622.0</td>\n",
       "      <td>874.0</td>\n",
       "      <td>512.0</td>\n",
       "      <td>219.0</td>\n",
       "      <td>31.0</td>\n",
       "      <td>1278.0</td>\n",
       "      <td>1236.0</td>\n",
       "      <td>693.0</td>\n",
       "      <td>221.0</td>\n",
       "      <td>28.0</td>\n",
       "    </tr>\n",
       "    <tr>\n",
       "      <th>7</th>\n",
       "      <td>7.0</td>\n",
       "      <td>406.0</td>\n",
       "      <td>660.0</td>\n",
       "      <td>417.0</td>\n",
       "      <td>157.0</td>\n",
       "      <td>21.0</td>\n",
       "      <td>802.0</td>\n",
       "      <td>1031.0</td>\n",
       "      <td>510.0</td>\n",
       "      <td>160.0</td>\n",
       "      <td>16.0</td>\n",
       "    </tr>\n",
       "    <tr>\n",
       "      <th>8</th>\n",
       "      <td>2.0</td>\n",
       "      <td>219.0</td>\n",
       "      <td>560.0</td>\n",
       "      <td>333.0</td>\n",
       "      <td>111.0</td>\n",
       "      <td>24.0</td>\n",
       "      <td>387.0</td>\n",
       "      <td>636.0</td>\n",
       "      <td>401.0</td>\n",
       "      <td>121.0</td>\n",
       "      <td>6.0</td>\n",
       "    </tr>\n",
       "  </tbody>\n",
       "</table>\n",
       "</div>"
      ],
      "text/plain": [
       "gender_agebin   0      1      2      3      4     5       6       7      8   \\\n",
       "out_bucket                                                                    \n",
       "1              3.0  134.0  174.0   99.0   44.0  12.0   191.0   311.0  177.0   \n",
       "2              NaN   69.0   91.0   49.0    9.0   NaN   154.0   183.0   76.0   \n",
       "3              3.0  747.0  802.0  529.0  243.0  38.0  1187.0  1084.0  702.0   \n",
       "4              1.0  420.0  530.0  317.0  120.0  15.0   868.0   778.0  417.0   \n",
       "5              5.0  664.0  874.0  515.0  189.0  25.0  1470.0  1414.0  717.0   \n",
       "6              4.0  622.0  874.0  512.0  219.0  31.0  1278.0  1236.0  693.0   \n",
       "7              7.0  406.0  660.0  417.0  157.0  21.0   802.0  1031.0  510.0   \n",
       "8              2.0  219.0  560.0  333.0  111.0  24.0   387.0   636.0  401.0   \n",
       "\n",
       "gender_agebin     9     10  \n",
       "out_bucket                  \n",
       "1               49.0  16.0  \n",
       "2               28.0   6.0  \n",
       "3              282.0  25.0  \n",
       "4              164.0  22.0  \n",
       "5              224.0  29.0  \n",
       "6              221.0  28.0  \n",
       "7              160.0  16.0  \n",
       "8              121.0   6.0  "
      ]
     },
     "execution_count": 39,
     "metadata": {},
     "output_type": "execute_result"
    }
   ],
   "source": [
    "fulldata['gender_agebin'] = 0\n",
    "fulldata.loc[((fulldata.SEX == 1) & (fulldata.AgeBin == 1)) , 'gender_agebin'] = 1 #man in 20's\n",
    "fulldata.loc[((fulldata.SEX == 1) & (fulldata.AgeBin == 2)) , 'gender_agebin'] = 2 #man in 30's\n",
    "fulldata.loc[((fulldata.SEX == 1) & (fulldata.AgeBin == 3)) , 'gender_agebin'] = 3 #man in 40's\n",
    "fulldata.loc[((fulldata.SEX == 1) & (fulldata.AgeBin == 4)) , 'gender_agebin'] = 4 #man in 50's\n",
    "fulldata.loc[((fulldata.SEX == 1) & (fulldata.AgeBin == 5)) , 'gender_agebin'] = 5 #man in 60's and above\n",
    "fulldata.loc[((fulldata.SEX == 2) & (fulldata.AgeBin == 1)) , 'gender_agebin'] = 6 #woman in 20's\n",
    "fulldata.loc[((fulldata.SEX == 2) & (fulldata.AgeBin == 2)) , 'gender_agebin'] = 7 #woman in 30's\n",
    "fulldata.loc[((fulldata.SEX == 2) & (fulldata.AgeBin == 3)) , 'gender_agebin'] = 8 #woman in 40's\n",
    "fulldata.loc[((fulldata.SEX == 2) & (fulldata.AgeBin == 4)) , 'gender_agebin'] = 9 #woman in 50's\n",
    "fulldata.loc[((fulldata.SEX == 2) & (fulldata.AgeBin == 5)) , 'gender_agebin'] = 10 #woman in 60's and above\n",
    "corr_2_cols('out_bucket', 'gender_agebin')"
   ]
  },
  {
   "cell_type": "code",
   "execution_count": 40,
   "metadata": {
    "collapsed": false
   },
   "outputs": [
    {
     "data": {
      "text/plain": [
       "<matplotlib.text.Text at 0x10fadf28>"
      ]
     },
     "execution_count": 40,
     "metadata": {},
     "output_type": "execute_result"
    },
    {
     "data": {
      "image/png": "[encoded data removed]",
      "text/plain": [
       "<matplotlib.figure.Figure at 0x10cd1240>"
      ]
     },
     "metadata": {},
     "output_type": "display_data"
    }
   ],
   "source": [
    "f,ax = plt.subplots(figsize=(8, 8))\n",
    "\n",
    "lab=['man in 20','man in 30','man in 40','man in 50','man in 60 & >','woman in 20','woman in 30','woman in 40','woman in 50','woman in 60 & >']\n",
    "lab2=['0','1 to 1K','1K to 5K','5K to 10K','10K to 25K','25K to 50K','50K to 100K','>100K']\n",
    "age_outstanding=corr_2_cols('out_bucket', 'gender_agebin')\n",
    "r=sns.heatmap(age_outstanding,annot=True,fmt=\"0.1f\",xticklabels=lab,yticklabels=lab2, linewidths=.8,ax=ax)\n",
    "r.set_title(\"Heatmap of Outstanding Balance and gender_agebin\")"
   ]
  },
  {
   "cell_type": "code",
   "execution_count": null,
   "metadata": {
    "collapsed": true
   },
   "outputs": [],
   "source": [
    "#Woman Clients with the age group of 30 to 40 tends to have an more number of outstanding balance of range 10K to 25K"
   ]
  },
  {
   "cell_type": "code",
   "execution_count": 84,
   "metadata": {
    "collapsed": false
   },
   "outputs": [
    {
     "data": {
      "text/plain": [
       "<matplotlib.text.Text at 0x198f1518>"
      ]
     },
     "execution_count": 84,
     "metadata": {},
     "output_type": "execute_result"
    },
    {
     "data": {
      "image/png": "[encoded data removed]",
      "text/plain": [
       "<matplotlib.figure.Figure at 0x16ff0a20>"
      ]
     },
     "metadata": {},
     "output_type": "display_data"
    }
   ],
   "source": [
    "cor = df.corr()\n",
    "r=sns.heatmap(cor,annot=True,fmt=\"0.5f\",xticklabels=cor.columns.values,yticklabels=cor.columns.values, linewidths=.8)\n",
    "r.set_title(\"Heatmap of Relation between Age,Educ,Marriage,Balance\")"
   ]
  },
  {
   "cell_type": "code",
   "execution_count": null,
   "metadata": {
    "collapsed": true
   },
   "outputs": [],
   "source": [
    "#The correlation between outstanding balance and Limit Balance is highly co-related(0.32658) to other columns"
   ]
  },
  {
   "cell_type": "code",
   "execution_count": 41,
   "metadata": {
    "collapsed": false
   },
   "outputs": [
    {
     "data": {
      "text/html": [
       "<div>\n",
       "<table border=\"1\" class=\"dataframe\">\n",
       "  <thead>\n",
       "    <tr style=\"text-align: right;\">\n",
       "      <th>ID</th>\n",
       "      <th>Closeness_6</th>\n",
       "      <th>Closeness_5</th>\n",
       "      <th>Closeness_4</th>\n",
       "      <th>Closeness_3</th>\n",
       "      <th>Closeness_2</th>\n",
       "      <th>Closeness_1</th>\n",
       "      <th>DEFAULTER</th>\n",
       "    </tr>\n",
       "  </thead>\n",
       "  <tbody>\n",
       "    <tr>\n",
       "      <th>28387</th>\n",
       "      <td>0.963150</td>\n",
       "      <td>0.907000</td>\n",
       "      <td>0.973850</td>\n",
       "      <td>0.604667</td>\n",
       "      <td>0.496400</td>\n",
       "      <td>0.521033</td>\n",
       "      <td>1.0</td>\n",
       "    </tr>\n",
       "    <tr>\n",
       "      <th>4975</th>\n",
       "      <td>0.577900</td>\n",
       "      <td>0.585867</td>\n",
       "      <td>0.594993</td>\n",
       "      <td>0.600367</td>\n",
       "      <td>0.608293</td>\n",
       "      <td>0.620293</td>\n",
       "      <td>0.0</td>\n",
       "    </tr>\n",
       "    <tr>\n",
       "      <th>10741</th>\n",
       "      <td>0.990200</td>\n",
       "      <td>0.993994</td>\n",
       "      <td>1.000028</td>\n",
       "      <td>0.998361</td>\n",
       "      <td>1.000008</td>\n",
       "      <td>1.000008</td>\n",
       "      <td>1.0</td>\n",
       "    </tr>\n",
       "    <tr>\n",
       "      <th>5780</th>\n",
       "      <td>0.138433</td>\n",
       "      <td>0.157733</td>\n",
       "      <td>0.177800</td>\n",
       "      <td>0.194383</td>\n",
       "      <td>0.211333</td>\n",
       "      <td>0.232267</td>\n",
       "      <td>0.0</td>\n",
       "    </tr>\n",
       "    <tr>\n",
       "      <th>29241</th>\n",
       "      <td>0.991345</td>\n",
       "      <td>0.998636</td>\n",
       "      <td>1.001364</td>\n",
       "      <td>0.998400</td>\n",
       "      <td>0.997036</td>\n",
       "      <td>0.997036</td>\n",
       "      <td>1.0</td>\n",
       "    </tr>\n",
       "    <tr>\n",
       "      <th>27538</th>\n",
       "      <td>0.080500</td>\n",
       "      <td>0.099850</td>\n",
       "      <td>0.117500</td>\n",
       "      <td>0.070600</td>\n",
       "      <td>0.008000</td>\n",
       "      <td>0.057200</td>\n",
       "      <td>0.0</td>\n",
       "    </tr>\n",
       "    <tr>\n",
       "      <th>17797</th>\n",
       "      <td>1.000000</td>\n",
       "      <td>0.981076</td>\n",
       "      <td>0.972343</td>\n",
       "      <td>0.944024</td>\n",
       "      <td>0.968833</td>\n",
       "      <td>0.992886</td>\n",
       "      <td>0.0</td>\n",
       "    </tr>\n",
       "    <tr>\n",
       "      <th>604</th>\n",
       "      <td>0.786214</td>\n",
       "      <td>0.782471</td>\n",
       "      <td>0.794714</td>\n",
       "      <td>0.798779</td>\n",
       "      <td>0.794121</td>\n",
       "      <td>0.811071</td>\n",
       "      <td>0.0</td>\n",
       "    </tr>\n",
       "    <tr>\n",
       "      <th>10231</th>\n",
       "      <td>0.091543</td>\n",
       "      <td>-0.008186</td>\n",
       "      <td>0.008779</td>\n",
       "      <td>0.059493</td>\n",
       "      <td>0.033507</td>\n",
       "      <td>0.058021</td>\n",
       "      <td>0.0</td>\n",
       "    </tr>\n",
       "    <tr>\n",
       "      <th>13477</th>\n",
       "      <td>0.777708</td>\n",
       "      <td>0.813044</td>\n",
       "      <td>0.830424</td>\n",
       "      <td>0.921964</td>\n",
       "      <td>0.918532</td>\n",
       "      <td>0.886776</td>\n",
       "      <td>0.0</td>\n",
       "    </tr>\n",
       "    <tr>\n",
       "      <th>21828</th>\n",
       "      <td>0.956465</td>\n",
       "      <td>0.931704</td>\n",
       "      <td>0.922465</td>\n",
       "      <td>0.927822</td>\n",
       "      <td>0.999039</td>\n",
       "      <td>0.996239</td>\n",
       "      <td>0.0</td>\n",
       "    </tr>\n",
       "    <tr>\n",
       "      <th>16365</th>\n",
       "      <td>0.996309</td>\n",
       "      <td>0.995339</td>\n",
       "      <td>0.993957</td>\n",
       "      <td>0.993439</td>\n",
       "      <td>0.952183</td>\n",
       "      <td>0.986400</td>\n",
       "      <td>0.0</td>\n",
       "    </tr>\n",
       "    <tr>\n",
       "      <th>20047</th>\n",
       "      <td>1.000750</td>\n",
       "      <td>0.959180</td>\n",
       "      <td>0.946380</td>\n",
       "      <td>0.990650</td>\n",
       "      <td>0.987750</td>\n",
       "      <td>0.975730</td>\n",
       "      <td>0.0</td>\n",
       "    </tr>\n",
       "    <tr>\n",
       "      <th>25572</th>\n",
       "      <td>0.766330</td>\n",
       "      <td>0.773233</td>\n",
       "      <td>0.777930</td>\n",
       "      <td>0.779480</td>\n",
       "      <td>0.792030</td>\n",
       "      <td>0.800333</td>\n",
       "      <td>0.0</td>\n",
       "    </tr>\n",
       "    <tr>\n",
       "      <th>29850</th>\n",
       "      <td>0.506138</td>\n",
       "      <td>0.523412</td>\n",
       "      <td>0.540725</td>\n",
       "      <td>0.554488</td>\n",
       "      <td>0.572538</td>\n",
       "      <td>0.581788</td>\n",
       "      <td>0.0</td>\n",
       "    </tr>\n",
       "    <tr>\n",
       "      <th>19212</th>\n",
       "      <td>0.995087</td>\n",
       "      <td>0.995087</td>\n",
       "      <td>0.995087</td>\n",
       "      <td>0.995091</td>\n",
       "      <td>0.999296</td>\n",
       "      <td>1.000000</td>\n",
       "      <td>0.0</td>\n",
       "    </tr>\n",
       "    <tr>\n",
       "      <th>3070</th>\n",
       "      <td>0.019600</td>\n",
       "      <td>0.038700</td>\n",
       "      <td>0.073833</td>\n",
       "      <td>0.081967</td>\n",
       "      <td>0.000833</td>\n",
       "      <td>-0.025700</td>\n",
       "      <td>0.0</td>\n",
       "    </tr>\n",
       "    <tr>\n",
       "      <th>24291</th>\n",
       "      <td>0.933356</td>\n",
       "      <td>0.931744</td>\n",
       "      <td>0.829647</td>\n",
       "      <td>0.990426</td>\n",
       "      <td>0.992321</td>\n",
       "      <td>0.938632</td>\n",
       "      <td>0.0</td>\n",
       "    </tr>\n",
       "    <tr>\n",
       "      <th>22598</th>\n",
       "      <td>1.000400</td>\n",
       "      <td>1.000400</td>\n",
       "      <td>1.000400</td>\n",
       "      <td>0.992562</td>\n",
       "      <td>0.997248</td>\n",
       "      <td>1.000000</td>\n",
       "      <td>1.0</td>\n",
       "    </tr>\n",
       "    <tr>\n",
       "      <th>14493</th>\n",
       "      <td>0.194027</td>\n",
       "      <td>0.210000</td>\n",
       "      <td>0.226020</td>\n",
       "      <td>0.245653</td>\n",
       "      <td>0.260773</td>\n",
       "      <td>0.664760</td>\n",
       "      <td>0.0</td>\n",
       "    </tr>\n",
       "  </tbody>\n",
       "</table>\n",
       "</div>"
      ],
      "text/plain": [
       "ID     Closeness_6  Closeness_5  Closeness_4  Closeness_3  Closeness_2  \\\n",
       "28387     0.963150     0.907000     0.973850     0.604667     0.496400   \n",
       "4975      0.577900     0.585867     0.594993     0.600367     0.608293   \n",
       "10741     0.990200     0.993994     1.000028     0.998361     1.000008   \n",
       "5780      0.138433     0.157733     0.177800     0.194383     0.211333   \n",
       "29241     0.991345     0.998636     1.001364     0.998400     0.997036   \n",
       "27538     0.080500     0.099850     0.117500     0.070600     0.008000   \n",
       "17797     1.000000     0.981076     0.972343     0.944024     0.968833   \n",
       "604       0.786214     0.782471     0.794714     0.798779     0.794121   \n",
       "10231     0.091543    -0.008186     0.008779     0.059493     0.033507   \n",
       "13477     0.777708     0.813044     0.830424     0.921964     0.918532   \n",
       "21828     0.956465     0.931704     0.922465     0.927822     0.999039   \n",
       "16365     0.996309     0.995339     0.993957     0.993439     0.952183   \n",
       "20047     1.000750     0.959180     0.946380     0.990650     0.987750   \n",
       "25572     0.766330     0.773233     0.777930     0.779480     0.792030   \n",
       "29850     0.506138     0.523412     0.540725     0.554488     0.572538   \n",
       "19212     0.995087     0.995087     0.995087     0.995091     0.999296   \n",
       "3070      0.019600     0.038700     0.073833     0.081967     0.000833   \n",
       "24291     0.933356     0.931744     0.829647     0.990426     0.992321   \n",
       "22598     1.000400     1.000400     1.000400     0.992562     0.997248   \n",
       "14493     0.194027     0.210000     0.226020     0.245653     0.260773   \n",
       "\n",
       "ID     Closeness_1  DEFAULTER  \n",
       "28387     0.521033        1.0  \n",
       "4975      0.620293        0.0  \n",
       "10741     1.000008        1.0  \n",
       "5780      0.232267        0.0  \n",
       "29241     0.997036        1.0  \n",
       "27538     0.057200        0.0  \n",
       "17797     0.992886        0.0  \n",
       "604       0.811071        0.0  \n",
       "10231     0.058021        0.0  \n",
       "13477     0.886776        0.0  \n",
       "21828     0.996239        0.0  \n",
       "16365     0.986400        0.0  \n",
       "20047     0.975730        0.0  \n",
       "25572     0.800333        0.0  \n",
       "29850     0.581788        0.0  \n",
       "19212     1.000000        0.0  \n",
       "3070     -0.025700        0.0  \n",
       "24291     0.938632        0.0  \n",
       "22598     1.000000        1.0  \n",
       "14493     0.664760        0.0  "
      ]
     },
     "execution_count": 41,
     "metadata": {},
     "output_type": "execute_result"
    }
   ],
   "source": [
    "#finding the closeness of the use of credit card by the customers\n",
    "\n",
    "fulldata['Closeness_6'] = (fulldata.LIMIT_BAL - fulldata.BILL_AMT6) / fulldata.LIMIT_BAL\n",
    "fulldata['Closeness_5'] = (fulldata.LIMIT_BAL - fulldata.BILL_AMT5) / fulldata.LIMIT_BAL\n",
    "fulldata['Closeness_4'] = (fulldata.LIMIT_BAL - fulldata.BILL_AMT4) / fulldata.LIMIT_BAL\n",
    "fulldata['Closeness_3'] = (fulldata.LIMIT_BAL - fulldata.BILL_AMT3) / fulldata.LIMIT_BAL\n",
    "fulldata['Closeness_2'] = (fulldata.LIMIT_BAL - fulldata.BILL_AMT2) / fulldata.LIMIT_BAL\n",
    "fulldata['Closeness_1'] = (fulldata.LIMIT_BAL - fulldata.BILL_AMT1) / fulldata.LIMIT_BAL\n",
    "fulldata[['Closeness_6', 'Closeness_5', 'Closeness_4', 'Closeness_3', 'Closeness_2',\n",
    "   'Closeness_1', 'DEFAULTER']].sample(20)"
   ]
  },
  {
   "cell_type": "code",
   "execution_count": 42,
   "metadata": {
    "collapsed": false
   },
   "outputs": [
    {
     "data": {
      "text/html": [
       "<div>\n",
       "<table border=\"1\" class=\"dataframe\">\n",
       "  <thead>\n",
       "    <tr style=\"text-align: right;\">\n",
       "      <th>ID</th>\n",
       "      <th>LIMIT_BAL</th>\n",
       "      <th>SEX</th>\n",
       "      <th>EDUCATION</th>\n",
       "      <th>MARRIAGE</th>\n",
       "      <th>AGE</th>\n",
       "      <th>PAY_1</th>\n",
       "      <th>PAY_2</th>\n",
       "      <th>PAY_3</th>\n",
       "      <th>PAY_4</th>\n",
       "      <th>PAY_5</th>\n",
       "      <th>PAY_6</th>\n",
       "      <th>BILL_AMT1</th>\n",
       "      <th>BILL_AMT2</th>\n",
       "      <th>BILL_AMT3</th>\n",
       "      <th>BILL_AMT4</th>\n",
       "      <th>BILL_AMT5</th>\n",
       "      <th>BILL_AMT6</th>\n",
       "      <th>PAY_AMT1</th>\n",
       "      <th>PAY_AMT2</th>\n",
       "      <th>PAY_AMT3</th>\n",
       "      <th>PAY_AMT4</th>\n",
       "      <th>PAY_AMT5</th>\n",
       "      <th>PAY_AMT6</th>\n",
       "      <th>DEFAULTER</th>\n",
       "      <th>out_bal_apr</th>\n",
       "      <th>out_bal_may</th>\n",
       "      <th>out_bal_june</th>\n",
       "      <th>out_bal_july</th>\n",
       "      <th>out_bal_aug</th>\n",
       "      <th>out_bucket</th>\n",
       "      <th>out_bucket2</th>\n",
       "      <th>AgeBin</th>\n",
       "      <th>gender_marital</th>\n",
       "      <th>gender_agebin</th>\n",
       "      <th>Closeness_6</th>\n",
       "      <th>Closeness_5</th>\n",
       "      <th>Closeness_4</th>\n",
       "      <th>Closeness_3</th>\n",
       "      <th>Closeness_2</th>\n",
       "      <th>Closeness_1</th>\n",
       "    </tr>\n",
       "  </thead>\n",
       "  <tbody>\n",
       "    <tr>\n",
       "      <th>1</th>\n",
       "      <td>20000.0</td>\n",
       "      <td>2.0</td>\n",
       "      <td>2.0</td>\n",
       "      <td>1.0</td>\n",
       "      <td>24.0</td>\n",
       "      <td>2.0</td>\n",
       "      <td>2.0</td>\n",
       "      <td>0.0</td>\n",
       "      <td>0.0</td>\n",
       "      <td>0.0</td>\n",
       "      <td>0.0</td>\n",
       "      <td>3913.0</td>\n",
       "      <td>3102.0</td>\n",
       "      <td>689.0</td>\n",
       "      <td>0.0</td>\n",
       "      <td>0.0</td>\n",
       "      <td>0.0</td>\n",
       "      <td>0.0</td>\n",
       "      <td>689.0</td>\n",
       "      <td>0.0</td>\n",
       "      <td>0.0</td>\n",
       "      <td>0.0</td>\n",
       "      <td>0.0</td>\n",
       "      <td>1.0</td>\n",
       "      <td>0.0</td>\n",
       "      <td>0.0</td>\n",
       "      <td>689.0</td>\n",
       "      <td>3791.0</td>\n",
       "      <td>4602.0</td>\n",
       "      <td>3</td>\n",
       "      <td>3</td>\n",
       "      <td>1</td>\n",
       "      <td>4</td>\n",
       "      <td>6</td>\n",
       "      <td>1.000000</td>\n",
       "      <td>1.000000</td>\n",
       "      <td>1.000000</td>\n",
       "      <td>0.965550</td>\n",
       "      <td>0.844900</td>\n",
       "      <td>0.804350</td>\n",
       "    </tr>\n",
       "    <tr>\n",
       "      <th>2</th>\n",
       "      <td>120000.0</td>\n",
       "      <td>2.0</td>\n",
       "      <td>2.0</td>\n",
       "      <td>2.0</td>\n",
       "      <td>26.0</td>\n",
       "      <td>0.0</td>\n",
       "      <td>2.0</td>\n",
       "      <td>0.0</td>\n",
       "      <td>0.0</td>\n",
       "      <td>0.0</td>\n",
       "      <td>2.0</td>\n",
       "      <td>2682.0</td>\n",
       "      <td>1725.0</td>\n",
       "      <td>2682.0</td>\n",
       "      <td>3272.0</td>\n",
       "      <td>3455.0</td>\n",
       "      <td>3261.0</td>\n",
       "      <td>0.0</td>\n",
       "      <td>1000.0</td>\n",
       "      <td>1000.0</td>\n",
       "      <td>1000.0</td>\n",
       "      <td>0.0</td>\n",
       "      <td>2000.0</td>\n",
       "      <td>1.0</td>\n",
       "      <td>194.0</td>\n",
       "      <td>1011.0</td>\n",
       "      <td>1421.0</td>\n",
       "      <td>1464.0</td>\n",
       "      <td>2421.0</td>\n",
       "      <td>3</td>\n",
       "      <td>3</td>\n",
       "      <td>1</td>\n",
       "      <td>5</td>\n",
       "      <td>6</td>\n",
       "      <td>0.972825</td>\n",
       "      <td>0.971208</td>\n",
       "      <td>0.972733</td>\n",
       "      <td>0.977650</td>\n",
       "      <td>0.985625</td>\n",
       "      <td>0.977650</td>\n",
       "    </tr>\n",
       "    <tr>\n",
       "      <th>3</th>\n",
       "      <td>90000.0</td>\n",
       "      <td>2.0</td>\n",
       "      <td>2.0</td>\n",
       "      <td>2.0</td>\n",
       "      <td>34.0</td>\n",
       "      <td>0.0</td>\n",
       "      <td>0.0</td>\n",
       "      <td>0.0</td>\n",
       "      <td>0.0</td>\n",
       "      <td>0.0</td>\n",
       "      <td>0.0</td>\n",
       "      <td>29239.0</td>\n",
       "      <td>14027.0</td>\n",
       "      <td>13559.0</td>\n",
       "      <td>14331.0</td>\n",
       "      <td>14948.0</td>\n",
       "      <td>15549.0</td>\n",
       "      <td>1518.0</td>\n",
       "      <td>1500.0</td>\n",
       "      <td>1000.0</td>\n",
       "      <td>1000.0</td>\n",
       "      <td>1000.0</td>\n",
       "      <td>5000.0</td>\n",
       "      <td>0.0</td>\n",
       "      <td>399.0</td>\n",
       "      <td>782.0</td>\n",
       "      <td>1010.0</td>\n",
       "      <td>2978.0</td>\n",
       "      <td>19708.0</td>\n",
       "      <td>5</td>\n",
       "      <td>5</td>\n",
       "      <td>2</td>\n",
       "      <td>5</td>\n",
       "      <td>7</td>\n",
       "      <td>0.827233</td>\n",
       "      <td>0.833911</td>\n",
       "      <td>0.840767</td>\n",
       "      <td>0.849344</td>\n",
       "      <td>0.844144</td>\n",
       "      <td>0.675122</td>\n",
       "    </tr>\n",
       "    <tr>\n",
       "      <th>4</th>\n",
       "      <td>50000.0</td>\n",
       "      <td>2.0</td>\n",
       "      <td>2.0</td>\n",
       "      <td>1.0</td>\n",
       "      <td>37.0</td>\n",
       "      <td>0.0</td>\n",
       "      <td>0.0</td>\n",
       "      <td>0.0</td>\n",
       "      <td>0.0</td>\n",
       "      <td>0.0</td>\n",
       "      <td>0.0</td>\n",
       "      <td>46990.0</td>\n",
       "      <td>48233.0</td>\n",
       "      <td>49291.0</td>\n",
       "      <td>28314.0</td>\n",
       "      <td>28959.0</td>\n",
       "      <td>29547.0</td>\n",
       "      <td>2000.0</td>\n",
       "      <td>2019.0</td>\n",
       "      <td>1200.0</td>\n",
       "      <td>1100.0</td>\n",
       "      <td>1069.0</td>\n",
       "      <td>1000.0</td>\n",
       "      <td>0.0</td>\n",
       "      <td>481.0</td>\n",
       "      <td>936.0</td>\n",
       "      <td>23113.0</td>\n",
       "      <td>24074.0</td>\n",
       "      <td>24831.0</td>\n",
       "      <td>5</td>\n",
       "      <td>5</td>\n",
       "      <td>2</td>\n",
       "      <td>4</td>\n",
       "      <td>7</td>\n",
       "      <td>0.409060</td>\n",
       "      <td>0.420820</td>\n",
       "      <td>0.433720</td>\n",
       "      <td>0.014180</td>\n",
       "      <td>0.035340</td>\n",
       "      <td>0.060200</td>\n",
       "    </tr>\n",
       "    <tr>\n",
       "      <th>5</th>\n",
       "      <td>50000.0</td>\n",
       "      <td>1.0</td>\n",
       "      <td>2.0</td>\n",
       "      <td>1.0</td>\n",
       "      <td>57.0</td>\n",
       "      <td>0.0</td>\n",
       "      <td>0.0</td>\n",
       "      <td>0.0</td>\n",
       "      <td>0.0</td>\n",
       "      <td>0.0</td>\n",
       "      <td>0.0</td>\n",
       "      <td>8617.0</td>\n",
       "      <td>5670.0</td>\n",
       "      <td>35835.0</td>\n",
       "      <td>20940.0</td>\n",
       "      <td>19146.0</td>\n",
       "      <td>19131.0</td>\n",
       "      <td>2000.0</td>\n",
       "      <td>36681.0</td>\n",
       "      <td>10000.0</td>\n",
       "      <td>9000.0</td>\n",
       "      <td>689.0</td>\n",
       "      <td>679.0</td>\n",
       "      <td>0.0</td>\n",
       "      <td>704.0</td>\n",
       "      <td>11498.0</td>\n",
       "      <td>36393.0</td>\n",
       "      <td>42909.0</td>\n",
       "      <td>47856.0</td>\n",
       "      <td>6</td>\n",
       "      <td>6</td>\n",
       "      <td>4</td>\n",
       "      <td>1</td>\n",
       "      <td>4</td>\n",
       "      <td>0.617380</td>\n",
       "      <td>0.617080</td>\n",
       "      <td>0.581200</td>\n",
       "      <td>0.283300</td>\n",
       "      <td>0.886600</td>\n",
       "      <td>0.827660</td>\n",
       "    </tr>\n",
       "  </tbody>\n",
       "</table>\n",
       "</div>"
      ],
      "text/plain": [
       "ID  LIMIT_BAL  SEX  EDUCATION  MARRIAGE   AGE  PAY_1  PAY_2  PAY_3  PAY_4  \\\n",
       "1     20000.0  2.0        2.0       1.0  24.0    2.0    2.0    0.0    0.0   \n",
       "2    120000.0  2.0        2.0       2.0  26.0    0.0    2.0    0.0    0.0   \n",
       "3     90000.0  2.0        2.0       2.0  34.0    0.0    0.0    0.0    0.0   \n",
       "4     50000.0  2.0        2.0       1.0  37.0    0.0    0.0    0.0    0.0   \n",
       "5     50000.0  1.0        2.0       1.0  57.0    0.0    0.0    0.0    0.0   \n",
       "\n",
       "ID  PAY_5  PAY_6  BILL_AMT1  BILL_AMT2  BILL_AMT3  BILL_AMT4  BILL_AMT5  \\\n",
       "1     0.0    0.0     3913.0     3102.0      689.0        0.0        0.0   \n",
       "2     0.0    2.0     2682.0     1725.0     2682.0     3272.0     3455.0   \n",
       "3     0.0    0.0    29239.0    14027.0    13559.0    14331.0    14948.0   \n",
       "4     0.0    0.0    46990.0    48233.0    49291.0    28314.0    28959.0   \n",
       "5     0.0    0.0     8617.0     5670.0    35835.0    20940.0    19146.0   \n",
       "\n",
       "ID  BILL_AMT6  PAY_AMT1  PAY_AMT2  PAY_AMT3  PAY_AMT4  PAY_AMT5  PAY_AMT6  \\\n",
       "1         0.0       0.0     689.0       0.0       0.0       0.0       0.0   \n",
       "2      3261.0       0.0    1000.0    1000.0    1000.0       0.0    2000.0   \n",
       "3     15549.0    1518.0    1500.0    1000.0    1000.0    1000.0    5000.0   \n",
       "4     29547.0    2000.0    2019.0    1200.0    1100.0    1069.0    1000.0   \n",
       "5     19131.0    2000.0   36681.0   10000.0    9000.0     689.0     679.0   \n",
       "\n",
       "ID  DEFAULTER  out_bal_apr  out_bal_may  out_bal_june  out_bal_july  \\\n",
       "1         1.0          0.0          0.0         689.0        3791.0   \n",
       "2         1.0        194.0       1011.0        1421.0        1464.0   \n",
       "3         0.0        399.0        782.0        1010.0        2978.0   \n",
       "4         0.0        481.0        936.0       23113.0       24074.0   \n",
       "5         0.0        704.0      11498.0       36393.0       42909.0   \n",
       "\n",
       "ID  out_bal_aug out_bucket out_bucket2  AgeBin  gender_marital  gender_agebin  \\\n",
       "1        4602.0          3           3       1               4              6   \n",
       "2        2421.0          3           3       1               5              6   \n",
       "3       19708.0          5           5       2               5              7   \n",
       "4       24831.0          5           5       2               4              7   \n",
       "5       47856.0          6           6       4               1              4   \n",
       "\n",
       "ID  Closeness_6  Closeness_5  Closeness_4  Closeness_3  Closeness_2  \\\n",
       "1      1.000000     1.000000     1.000000     0.965550     0.844900   \n",
       "2      0.972825     0.971208     0.972733     0.977650     0.985625   \n",
       "3      0.827233     0.833911     0.840767     0.849344     0.844144   \n",
       "4      0.409060     0.420820     0.433720     0.014180     0.035340   \n",
       "5      0.617380     0.617080     0.581200     0.283300     0.886600   \n",
       "\n",
       "ID  Closeness_1  \n",
       "1      0.804350  \n",
       "2      0.977650  \n",
       "3      0.675122  \n",
       "4      0.060200  \n",
       "5      0.827660  "
      ]
     },
     "execution_count": 42,
     "metadata": {},
     "output_type": "execute_result"
    }
   ],
   "source": [
    "fulldata.head()"
   ]
  },
  {
   "cell_type": "markdown",
   "metadata": {},
   "source": [
    "# Building Model to find defaulters"
   ]
  },
  {
   "cell_type": "code",
   "execution_count": 43,
   "metadata": {
    "collapsed": false
   },
   "outputs": [],
   "source": [
    "from sklearn.tree import DecisionTreeClassifier\n",
    "from sklearn.metrics import accuracy_score, make_scorer\n",
    "from sklearn.model_selection import train_test_split\n",
    "from sklearn.utils import resample\n",
    "features = ['LIMIT_BAL', 'EDUCATION', 'MARRIAGE', 'PAY_1','PAY_2', 'PAY_3', \n",
    "            'PAY_4', 'PAY_5', 'PAY_6','BILL_AMT1', 'BILL_AMT2',\n",
    "            'BILL_AMT3', 'BILL_AMT4', 'BILL_AMT5', 'BILL_AMT6', 'PAY_AMT1',\n",
    "            'PAY_AMT2', 'PAY_AMT3', 'PAY_AMT4', 'PAY_AMT5', 'PAY_AMT6', \n",
    "            'gender_marital', 'AgeBin', 'gender_agebin', 'out_bal_apr', 'out_bal_may',\n",
    "            'out_bal_june', 'out_bal_july', 'out_bal_aug', 'Closeness_5',\n",
    "            'Closeness_4', 'Closeness_3', 'Closeness_2','Closeness_1']\n",
    "y = fulldata['DEFAULTER'].copy() # target\n",
    "X = fulldata[features].copy()\n",
    "x_train, x_test, y_train, y_test = train_test_split(X, y, test_size=0.20, random_state=42)"
   ]
  },
  {
   "cell_type": "code",
   "execution_count": 44,
   "metadata": {
    "collapsed": false
   },
   "outputs": [
    {
     "name": "stdout",
     "output_type": "stream",
     "text": [
      "(24000, 34)\n",
      "(6000, 34)\n",
      "(24000L,)\n",
      "(6000L,)\n"
     ]
    }
   ],
   "source": [
    "print x_train.shape\n",
    "print x_test.shape\n",
    "print y_train.shape\n",
    "print y_test.shape\n"
   ]
  },
  {
   "cell_type": "code",
   "execution_count": 45,
   "metadata": {
    "collapsed": false
   },
   "outputs": [
    {
     "data": {
      "text/html": [
       "<div>\n",
       "<table border=\"1\" class=\"dataframe\">\n",
       "  <thead>\n",
       "    <tr style=\"text-align: right;\">\n",
       "      <th>ID</th>\n",
       "      <th>LIMIT_BAL</th>\n",
       "      <th>EDUCATION</th>\n",
       "      <th>MARRIAGE</th>\n",
       "      <th>PAY_1</th>\n",
       "      <th>PAY_2</th>\n",
       "      <th>PAY_3</th>\n",
       "      <th>PAY_4</th>\n",
       "      <th>PAY_5</th>\n",
       "      <th>PAY_6</th>\n",
       "      <th>BILL_AMT1</th>\n",
       "      <th>BILL_AMT2</th>\n",
       "      <th>BILL_AMT3</th>\n",
       "      <th>BILL_AMT4</th>\n",
       "      <th>BILL_AMT5</th>\n",
       "      <th>BILL_AMT6</th>\n",
       "      <th>PAY_AMT1</th>\n",
       "      <th>PAY_AMT2</th>\n",
       "      <th>PAY_AMT3</th>\n",
       "      <th>PAY_AMT4</th>\n",
       "      <th>PAY_AMT5</th>\n",
       "      <th>PAY_AMT6</th>\n",
       "      <th>gender_marital</th>\n",
       "      <th>AgeBin</th>\n",
       "      <th>gender_agebin</th>\n",
       "      <th>out_bal_apr</th>\n",
       "      <th>out_bal_may</th>\n",
       "      <th>out_bal_june</th>\n",
       "      <th>out_bal_july</th>\n",
       "      <th>out_bal_aug</th>\n",
       "      <th>Closeness_5</th>\n",
       "      <th>Closeness_4</th>\n",
       "      <th>Closeness_3</th>\n",
       "      <th>Closeness_2</th>\n",
       "      <th>Closeness_1</th>\n",
       "      <th>DEFAULTER</th>\n",
       "    </tr>\n",
       "  </thead>\n",
       "  <tbody>\n",
       "    <tr>\n",
       "      <th>21754</th>\n",
       "      <td>80000.0</td>\n",
       "      <td>2.0</td>\n",
       "      <td>2.0</td>\n",
       "      <td>0.0</td>\n",
       "      <td>0.0</td>\n",
       "      <td>0.0</td>\n",
       "      <td>0.0</td>\n",
       "      <td>0.0</td>\n",
       "      <td>0.0</td>\n",
       "      <td>75125.0</td>\n",
       "      <td>77353.0</td>\n",
       "      <td>78321.0</td>\n",
       "      <td>73731.0</td>\n",
       "      <td>39643.0</td>\n",
       "      <td>39457.0</td>\n",
       "      <td>3503.0</td>\n",
       "      <td>5001.0</td>\n",
       "      <td>2092.0</td>\n",
       "      <td>1218.0</td>\n",
       "      <td>1445.0</td>\n",
       "      <td>878.0</td>\n",
       "      <td>5</td>\n",
       "      <td>1</td>\n",
       "      <td>6</td>\n",
       "      <td>1631.0</td>\n",
       "      <td>36937.0</td>\n",
       "      <td>43619.0</td>\n",
       "      <td>47652.0</td>\n",
       "      <td>48927.0</td>\n",
       "      <td>0.504463</td>\n",
       "      <td>0.078363</td>\n",
       "      <td>0.020987</td>\n",
       "      <td>0.033087</td>\n",
       "      <td>0.060937</td>\n",
       "      <td>0.0</td>\n",
       "    </tr>\n",
       "    <tr>\n",
       "      <th>252</th>\n",
       "      <td>30000.0</td>\n",
       "      <td>2.0</td>\n",
       "      <td>2.0</td>\n",
       "      <td>0.0</td>\n",
       "      <td>0.0</td>\n",
       "      <td>0.0</td>\n",
       "      <td>0.0</td>\n",
       "      <td>0.0</td>\n",
       "      <td>0.0</td>\n",
       "      <td>29242.0</td>\n",
       "      <td>29507.0</td>\n",
       "      <td>29155.0</td>\n",
       "      <td>25255.0</td>\n",
       "      <td>22001.0</td>\n",
       "      <td>0.0</td>\n",
       "      <td>5006.0</td>\n",
       "      <td>1244.0</td>\n",
       "      <td>851.0</td>\n",
       "      <td>955.0</td>\n",
       "      <td>0.0</td>\n",
       "      <td>0.0</td>\n",
       "      <td>2</td>\n",
       "      <td>1</td>\n",
       "      <td>1</td>\n",
       "      <td>22001.0</td>\n",
       "      <td>26210.0</td>\n",
       "      <td>30961.0</td>\n",
       "      <td>32557.0</td>\n",
       "      <td>37298.0</td>\n",
       "      <td>0.266633</td>\n",
       "      <td>0.158167</td>\n",
       "      <td>0.028167</td>\n",
       "      <td>0.016433</td>\n",
       "      <td>0.025267</td>\n",
       "      <td>0.0</td>\n",
       "    </tr>\n",
       "    <tr>\n",
       "      <th>22942</th>\n",
       "      <td>180000.0</td>\n",
       "      <td>4.0</td>\n",
       "      <td>1.0</td>\n",
       "      <td>0.0</td>\n",
       "      <td>0.0</td>\n",
       "      <td>0.0</td>\n",
       "      <td>0.0</td>\n",
       "      <td>0.0</td>\n",
       "      <td>0.0</td>\n",
       "      <td>20916.0</td>\n",
       "      <td>0.0</td>\n",
       "      <td>850.0</td>\n",
       "      <td>0.0</td>\n",
       "      <td>6881.0</td>\n",
       "      <td>10340.0</td>\n",
       "      <td>0.0</td>\n",
       "      <td>850.0</td>\n",
       "      <td>0.0</td>\n",
       "      <td>6881.0</td>\n",
       "      <td>10340.0</td>\n",
       "      <td>182.0</td>\n",
       "      <td>4</td>\n",
       "      <td>3</td>\n",
       "      <td>8</td>\n",
       "      <td>6881.0</td>\n",
       "      <td>6881.0</td>\n",
       "      <td>7731.0</td>\n",
       "      <td>7731.0</td>\n",
       "      <td>28647.0</td>\n",
       "      <td>0.961772</td>\n",
       "      <td>1.000000</td>\n",
       "      <td>0.995278</td>\n",
       "      <td>1.000000</td>\n",
       "      <td>0.883800</td>\n",
       "      <td>0.0</td>\n",
       "    </tr>\n",
       "    <tr>\n",
       "      <th>619</th>\n",
       "      <td>60000.0</td>\n",
       "      <td>1.0</td>\n",
       "      <td>2.0</td>\n",
       "      <td>0.0</td>\n",
       "      <td>0.0</td>\n",
       "      <td>0.0</td>\n",
       "      <td>0.0</td>\n",
       "      <td>0.0</td>\n",
       "      <td>0.0</td>\n",
       "      <td>58839.0</td>\n",
       "      <td>53235.0</td>\n",
       "      <td>38533.0</td>\n",
       "      <td>39639.0</td>\n",
       "      <td>39619.0</td>\n",
       "      <td>39140.0</td>\n",
       "      <td>2018.0</td>\n",
       "      <td>1900.0</td>\n",
       "      <td>2000.0</td>\n",
       "      <td>1500.0</td>\n",
       "      <td>1900.0</td>\n",
       "      <td>2000.0</td>\n",
       "      <td>2</td>\n",
       "      <td>1</td>\n",
       "      <td>1</td>\n",
       "      <td>2379.0</td>\n",
       "      <td>3899.0</td>\n",
       "      <td>4793.0</td>\n",
       "      <td>21395.0</td>\n",
       "      <td>29017.0</td>\n",
       "      <td>0.339683</td>\n",
       "      <td>0.339350</td>\n",
       "      <td>0.357783</td>\n",
       "      <td>0.112750</td>\n",
       "      <td>0.019350</td>\n",
       "      <td>0.0</td>\n",
       "    </tr>\n",
       "    <tr>\n",
       "      <th>17091</th>\n",
       "      <td>130000.0</td>\n",
       "      <td>2.0</td>\n",
       "      <td>2.0</td>\n",
       "      <td>0.0</td>\n",
       "      <td>0.0</td>\n",
       "      <td>0.0</td>\n",
       "      <td>0.0</td>\n",
       "      <td>0.0</td>\n",
       "      <td>0.0</td>\n",
       "      <td>111587.0</td>\n",
       "      <td>112348.0</td>\n",
       "      <td>114734.0</td>\n",
       "      <td>117823.0</td>\n",
       "      <td>120854.0</td>\n",
       "      <td>123904.0</td>\n",
       "      <td>4100.0</td>\n",
       "      <td>4200.0</td>\n",
       "      <td>5000.0</td>\n",
       "      <td>5000.0</td>\n",
       "      <td>5000.0</td>\n",
       "      <td>10700.0</td>\n",
       "      <td>5</td>\n",
       "      <td>1</td>\n",
       "      <td>6</td>\n",
       "      <td>1950.0</td>\n",
       "      <td>3919.0</td>\n",
       "      <td>5830.0</td>\n",
       "      <td>7644.0</td>\n",
       "      <td>10983.0</td>\n",
       "      <td>0.070354</td>\n",
       "      <td>0.093669</td>\n",
       "      <td>0.117431</td>\n",
       "      <td>0.135785</td>\n",
       "      <td>0.141638</td>\n",
       "      <td>0.0</td>\n",
       "    </tr>\n",
       "  </tbody>\n",
       "</table>\n",
       "</div>"
      ],
      "text/plain": [
       "ID     LIMIT_BAL  EDUCATION  MARRIAGE  PAY_1  PAY_2  PAY_3  PAY_4  PAY_5  \\\n",
       "21754    80000.0        2.0       2.0    0.0    0.0    0.0    0.0    0.0   \n",
       "252      30000.0        2.0       2.0    0.0    0.0    0.0    0.0    0.0   \n",
       "22942   180000.0        4.0       1.0    0.0    0.0    0.0    0.0    0.0   \n",
       "619      60000.0        1.0       2.0    0.0    0.0    0.0    0.0    0.0   \n",
       "17091   130000.0        2.0       2.0    0.0    0.0    0.0    0.0    0.0   \n",
       "\n",
       "ID     PAY_6  BILL_AMT1  BILL_AMT2  BILL_AMT3  BILL_AMT4  BILL_AMT5  \\\n",
       "21754    0.0    75125.0    77353.0    78321.0    73731.0    39643.0   \n",
       "252      0.0    29242.0    29507.0    29155.0    25255.0    22001.0   \n",
       "22942    0.0    20916.0        0.0      850.0        0.0     6881.0   \n",
       "619      0.0    58839.0    53235.0    38533.0    39639.0    39619.0   \n",
       "17091    0.0   111587.0   112348.0   114734.0   117823.0   120854.0   \n",
       "\n",
       "ID     BILL_AMT6  PAY_AMT1  PAY_AMT2  PAY_AMT3  PAY_AMT4  PAY_AMT5  PAY_AMT6  \\\n",
       "21754    39457.0    3503.0    5001.0    2092.0    1218.0    1445.0     878.0   \n",
       "252          0.0    5006.0    1244.0     851.0     955.0       0.0       0.0   \n",
       "22942    10340.0       0.0     850.0       0.0    6881.0   10340.0     182.0   \n",
       "619      39140.0    2018.0    1900.0    2000.0    1500.0    1900.0    2000.0   \n",
       "17091   123904.0    4100.0    4200.0    5000.0    5000.0    5000.0   10700.0   \n",
       "\n",
       "ID     gender_marital  AgeBin  gender_agebin  out_bal_apr  out_bal_may  \\\n",
       "21754               5       1              6       1631.0      36937.0   \n",
       "252                 2       1              1      22001.0      26210.0   \n",
       "22942               4       3              8       6881.0       6881.0   \n",
       "619                 2       1              1       2379.0       3899.0   \n",
       "17091               5       1              6       1950.0       3919.0   \n",
       "\n",
       "ID     out_bal_june  out_bal_july  out_bal_aug  Closeness_5  Closeness_4  \\\n",
       "21754       43619.0       47652.0      48927.0     0.504463     0.078363   \n",
       "252         30961.0       32557.0      37298.0     0.266633     0.158167   \n",
       "22942        7731.0        7731.0      28647.0     0.961772     1.000000   \n",
       "619          4793.0       21395.0      29017.0     0.339683     0.339350   \n",
       "17091        5830.0        7644.0      10983.0     0.070354     0.093669   \n",
       "\n",
       "ID     Closeness_3  Closeness_2  Closeness_1  DEFAULTER  \n",
       "21754     0.020987     0.033087     0.060937        0.0  \n",
       "252       0.028167     0.016433     0.025267        0.0  \n",
       "22942     0.995278     1.000000     0.883800        0.0  \n",
       "619       0.357783     0.112750     0.019350        0.0  \n",
       "17091     0.117431     0.135785     0.141638        0.0  "
      ]
     },
     "execution_count": 45,
     "metadata": {},
     "output_type": "execute_result"
    }
   ],
   "source": [
    "df_train=x_train.join(y_train)\n",
    "df_train.head()"
   ]
  },
  {
   "cell_type": "code",
   "execution_count": 46,
   "metadata": {
    "collapsed": false
   },
   "outputs": [
    {
     "data": {
      "text/html": [
       "<div>\n",
       "<table border=\"1\" class=\"dataframe\">\n",
       "  <thead>\n",
       "    <tr style=\"text-align: right;\">\n",
       "      <th>ID</th>\n",
       "      <th>LIMIT_BAL</th>\n",
       "      <th>EDUCATION</th>\n",
       "      <th>MARRIAGE</th>\n",
       "      <th>PAY_1</th>\n",
       "      <th>PAY_2</th>\n",
       "      <th>PAY_3</th>\n",
       "      <th>PAY_4</th>\n",
       "      <th>PAY_5</th>\n",
       "      <th>PAY_6</th>\n",
       "      <th>BILL_AMT1</th>\n",
       "      <th>BILL_AMT2</th>\n",
       "      <th>BILL_AMT3</th>\n",
       "      <th>BILL_AMT4</th>\n",
       "      <th>BILL_AMT5</th>\n",
       "      <th>BILL_AMT6</th>\n",
       "      <th>PAY_AMT1</th>\n",
       "      <th>PAY_AMT2</th>\n",
       "      <th>PAY_AMT3</th>\n",
       "      <th>PAY_AMT4</th>\n",
       "      <th>PAY_AMT5</th>\n",
       "      <th>PAY_AMT6</th>\n",
       "      <th>gender_marital</th>\n",
       "      <th>AgeBin</th>\n",
       "      <th>gender_agebin</th>\n",
       "      <th>out_bal_apr</th>\n",
       "      <th>out_bal_may</th>\n",
       "      <th>out_bal_june</th>\n",
       "      <th>out_bal_july</th>\n",
       "      <th>out_bal_aug</th>\n",
       "      <th>Closeness_5</th>\n",
       "      <th>Closeness_4</th>\n",
       "      <th>Closeness_3</th>\n",
       "      <th>Closeness_2</th>\n",
       "      <th>Closeness_1</th>\n",
       "      <th>DEFAULTER</th>\n",
       "    </tr>\n",
       "  </thead>\n",
       "  <tbody>\n",
       "    <tr>\n",
       "      <th>2309</th>\n",
       "      <td>30000.0</td>\n",
       "      <td>2.0</td>\n",
       "      <td>2.0</td>\n",
       "      <td>0.0</td>\n",
       "      <td>0.0</td>\n",
       "      <td>0.0</td>\n",
       "      <td>0.0</td>\n",
       "      <td>0.0</td>\n",
       "      <td>0.0</td>\n",
       "      <td>8864.0</td>\n",
       "      <td>10062.0</td>\n",
       "      <td>11581.0</td>\n",
       "      <td>12580.0</td>\n",
       "      <td>13716.0</td>\n",
       "      <td>14828.0</td>\n",
       "      <td>1500.0</td>\n",
       "      <td>2000.0</td>\n",
       "      <td>1500.0</td>\n",
       "      <td>1500.0</td>\n",
       "      <td>1500.0</td>\n",
       "      <td>2000.0</td>\n",
       "      <td>2</td>\n",
       "      <td>1</td>\n",
       "      <td>1</td>\n",
       "      <td>388.0</td>\n",
       "      <td>752.0</td>\n",
       "      <td>1253.0</td>\n",
       "      <td>1734.0</td>\n",
       "      <td>2036.0</td>\n",
       "      <td>0.542800</td>\n",
       "      <td>0.580667</td>\n",
       "      <td>0.613967</td>\n",
       "      <td>0.664600</td>\n",
       "      <td>0.704533</td>\n",
       "      <td>0.0</td>\n",
       "    </tr>\n",
       "    <tr>\n",
       "      <th>22405</th>\n",
       "      <td>150000.0</td>\n",
       "      <td>1.0</td>\n",
       "      <td>2.0</td>\n",
       "      <td>0.0</td>\n",
       "      <td>0.0</td>\n",
       "      <td>0.0</td>\n",
       "      <td>0.0</td>\n",
       "      <td>0.0</td>\n",
       "      <td>0.0</td>\n",
       "      <td>136736.0</td>\n",
       "      <td>125651.0</td>\n",
       "      <td>116684.0</td>\n",
       "      <td>101581.0</td>\n",
       "      <td>77741.0</td>\n",
       "      <td>77264.0</td>\n",
       "      <td>4486.0</td>\n",
       "      <td>4235.0</td>\n",
       "      <td>3161.0</td>\n",
       "      <td>2647.0</td>\n",
       "      <td>2669.0</td>\n",
       "      <td>2669.0</td>\n",
       "      <td>5</td>\n",
       "      <td>1</td>\n",
       "      <td>6</td>\n",
       "      <td>3146.0</td>\n",
       "      <td>29633.0</td>\n",
       "      <td>47897.0</td>\n",
       "      <td>61099.0</td>\n",
       "      <td>76670.0</td>\n",
       "      <td>0.481727</td>\n",
       "      <td>0.322793</td>\n",
       "      <td>0.222107</td>\n",
       "      <td>0.162327</td>\n",
       "      <td>0.088427</td>\n",
       "      <td>0.0</td>\n",
       "    </tr>\n",
       "    <tr>\n",
       "      <th>23398</th>\n",
       "      <td>70000.0</td>\n",
       "      <td>3.0</td>\n",
       "      <td>1.0</td>\n",
       "      <td>0.0</td>\n",
       "      <td>0.0</td>\n",
       "      <td>0.0</td>\n",
       "      <td>0.0</td>\n",
       "      <td>0.0</td>\n",
       "      <td>0.0</td>\n",
       "      <td>70122.0</td>\n",
       "      <td>69080.0</td>\n",
       "      <td>68530.0</td>\n",
       "      <td>69753.0</td>\n",
       "      <td>70111.0</td>\n",
       "      <td>70212.0</td>\n",
       "      <td>2431.0</td>\n",
       "      <td>3112.0</td>\n",
       "      <td>3000.0</td>\n",
       "      <td>2438.0</td>\n",
       "      <td>2500.0</td>\n",
       "      <td>2554.0</td>\n",
       "      <td>4</td>\n",
       "      <td>2</td>\n",
       "      <td>7</td>\n",
       "      <td>2399.0</td>\n",
       "      <td>4479.0</td>\n",
       "      <td>6256.0</td>\n",
       "      <td>9918.0</td>\n",
       "      <td>13391.0</td>\n",
       "      <td>-0.001586</td>\n",
       "      <td>0.003529</td>\n",
       "      <td>0.021000</td>\n",
       "      <td>0.013143</td>\n",
       "      <td>-0.001743</td>\n",
       "      <td>0.0</td>\n",
       "    </tr>\n",
       "    <tr>\n",
       "      <th>25059</th>\n",
       "      <td>130000.0</td>\n",
       "      <td>3.0</td>\n",
       "      <td>2.0</td>\n",
       "      <td>0.0</td>\n",
       "      <td>0.0</td>\n",
       "      <td>0.0</td>\n",
       "      <td>0.0</td>\n",
       "      <td>0.0</td>\n",
       "      <td>0.0</td>\n",
       "      <td>20678.0</td>\n",
       "      <td>18956.0</td>\n",
       "      <td>16172.0</td>\n",
       "      <td>16898.0</td>\n",
       "      <td>11236.0</td>\n",
       "      <td>6944.0</td>\n",
       "      <td>1610.0</td>\n",
       "      <td>1808.0</td>\n",
       "      <td>7014.0</td>\n",
       "      <td>27.0</td>\n",
       "      <td>7011.0</td>\n",
       "      <td>4408.0</td>\n",
       "      <td>2</td>\n",
       "      <td>3</td>\n",
       "      <td>3</td>\n",
       "      <td>11303.0</td>\n",
       "      <td>16992.0</td>\n",
       "      <td>23280.0</td>\n",
       "      <td>27872.0</td>\n",
       "      <td>31204.0</td>\n",
       "      <td>0.913569</td>\n",
       "      <td>0.870015</td>\n",
       "      <td>0.875600</td>\n",
       "      <td>0.854185</td>\n",
       "      <td>0.840938</td>\n",
       "      <td>0.0</td>\n",
       "    </tr>\n",
       "    <tr>\n",
       "      <th>2665</th>\n",
       "      <td>50000.0</td>\n",
       "      <td>2.0</td>\n",
       "      <td>2.0</td>\n",
       "      <td>0.0</td>\n",
       "      <td>0.0</td>\n",
       "      <td>0.0</td>\n",
       "      <td>0.0</td>\n",
       "      <td>0.0</td>\n",
       "      <td>2.0</td>\n",
       "      <td>94228.0</td>\n",
       "      <td>47635.0</td>\n",
       "      <td>42361.0</td>\n",
       "      <td>19574.0</td>\n",
       "      <td>20295.0</td>\n",
       "      <td>19439.0</td>\n",
       "      <td>2000.0</td>\n",
       "      <td>1500.0</td>\n",
       "      <td>1000.0</td>\n",
       "      <td>1800.0</td>\n",
       "      <td>0.0</td>\n",
       "      <td>1000.0</td>\n",
       "      <td>5</td>\n",
       "      <td>2</td>\n",
       "      <td>7</td>\n",
       "      <td>856.0</td>\n",
       "      <td>1935.0</td>\n",
       "      <td>25722.0</td>\n",
       "      <td>32496.0</td>\n",
       "      <td>81089.0</td>\n",
       "      <td>0.594100</td>\n",
       "      <td>0.608520</td>\n",
       "      <td>0.152780</td>\n",
       "      <td>0.047300</td>\n",
       "      <td>-0.884560</td>\n",
       "      <td>1.0</td>\n",
       "    </tr>\n",
       "  </tbody>\n",
       "</table>\n",
       "</div>"
      ],
      "text/plain": [
       "ID     LIMIT_BAL  EDUCATION  MARRIAGE  PAY_1  PAY_2  PAY_3  PAY_4  PAY_5  \\\n",
       "2309     30000.0        2.0       2.0    0.0    0.0    0.0    0.0    0.0   \n",
       "22405   150000.0        1.0       2.0    0.0    0.0    0.0    0.0    0.0   \n",
       "23398    70000.0        3.0       1.0    0.0    0.0    0.0    0.0    0.0   \n",
       "25059   130000.0        3.0       2.0    0.0    0.0    0.0    0.0    0.0   \n",
       "2665     50000.0        2.0       2.0    0.0    0.0    0.0    0.0    0.0   \n",
       "\n",
       "ID     PAY_6  BILL_AMT1  BILL_AMT2  BILL_AMT3  BILL_AMT4  BILL_AMT5  \\\n",
       "2309     0.0     8864.0    10062.0    11581.0    12580.0    13716.0   \n",
       "22405    0.0   136736.0   125651.0   116684.0   101581.0    77741.0   \n",
       "23398    0.0    70122.0    69080.0    68530.0    69753.0    70111.0   \n",
       "25059    0.0    20678.0    18956.0    16172.0    16898.0    11236.0   \n",
       "2665     2.0    94228.0    47635.0    42361.0    19574.0    20295.0   \n",
       "\n",
       "ID     BILL_AMT6  PAY_AMT1  PAY_AMT2  PAY_AMT3  PAY_AMT4  PAY_AMT5  PAY_AMT6  \\\n",
       "2309     14828.0    1500.0    2000.0    1500.0    1500.0    1500.0    2000.0   \n",
       "22405    77264.0    4486.0    4235.0    3161.0    2647.0    2669.0    2669.0   \n",
       "23398    70212.0    2431.0    3112.0    3000.0    2438.0    2500.0    2554.0   \n",
       "25059     6944.0    1610.0    1808.0    7014.0      27.0    7011.0    4408.0   \n",
       "2665     19439.0    2000.0    1500.0    1000.0    1800.0       0.0    1000.0   \n",
       "\n",
       "ID     gender_marital  AgeBin  gender_agebin  out_bal_apr  out_bal_may  \\\n",
       "2309                2       1              1        388.0        752.0   \n",
       "22405               5       1              6       3146.0      29633.0   \n",
       "23398               4       2              7       2399.0       4479.0   \n",
       "25059               2       3              3      11303.0      16992.0   \n",
       "2665                5       2              7        856.0       1935.0   \n",
       "\n",
       "ID     out_bal_june  out_bal_july  out_bal_aug  Closeness_5  Closeness_4  \\\n",
       "2309         1253.0        1734.0       2036.0     0.542800     0.580667   \n",
       "22405       47897.0       61099.0      76670.0     0.481727     0.322793   \n",
       "23398        6256.0        9918.0      13391.0    -0.001586     0.003529   \n",
       "25059       23280.0       27872.0      31204.0     0.913569     0.870015   \n",
       "2665        25722.0       32496.0      81089.0     0.594100     0.608520   \n",
       "\n",
       "ID     Closeness_3  Closeness_2  Closeness_1  DEFAULTER  \n",
       "2309      0.613967     0.664600     0.704533        0.0  \n",
       "22405     0.222107     0.162327     0.088427        0.0  \n",
       "23398     0.021000     0.013143    -0.001743        0.0  \n",
       "25059     0.875600     0.854185     0.840938        0.0  \n",
       "2665      0.152780     0.047300    -0.884560        1.0  "
      ]
     },
     "execution_count": 46,
     "metadata": {},
     "output_type": "execute_result"
    }
   ],
   "source": [
    "df_test=x_test.join(y_test)\n",
    "df_test.head()"
   ]
  },
  {
   "cell_type": "code",
   "execution_count": 47,
   "metadata": {
    "collapsed": false
   },
   "outputs": [
    {
     "name": "stdout",
     "output_type": "stream",
     "text": [
      "18677\n",
      "-----------\n",
      "5323\n",
      "-----------\n",
      "0.0    18677\n",
      "1.0     5323\n",
      "Name: DEFAULTER, dtype: int64\n"
     ]
    }
   ],
   "source": [
    "df_majority = df_train[df_train.DEFAULTER==0]\n",
    "df_minority = df_train[df_train.DEFAULTER==1]\n",
    "\n",
    "print(df_majority.DEFAULTER.count())\n",
    "print(\"-----------\")\n",
    "print(df_minority.DEFAULTER.count())\n",
    "print(\"-----------\")\n",
    "print(df_train.DEFAULTER.value_counts())"
   ]
  },
  {
   "cell_type": "code",
   "execution_count": 48,
   "metadata": {
    "collapsed": false
   },
   "outputs": [
    {
     "data": {
      "text/plain": [
       "1.0    18677\n",
       "0.0    18677\n",
       "Name: DEFAULTER, dtype: int64"
      ]
     },
     "execution_count": 48,
     "metadata": {},
     "output_type": "execute_result"
    }
   ],
   "source": [
    "df_minority_upsampled = resample(df_minority, \n",
    "                                 replace=True,     # sample with replacement\n",
    "                                 n_samples=18677,    # to match majority class\n",
    "                                 random_state=587) # reproducible results\n",
    "# Combine majority class with upsampled minority class\n",
    "df_upsampled = pd.concat([df_majority, df_minority_upsampled])\n",
    "# Display new class counts\n",
    "df_upsampled.DEFAULTER.value_counts()"
   ]
  },
  {
   "cell_type": "code",
   "execution_count": 49,
   "metadata": {
    "collapsed": false
   },
   "outputs": [
    {
     "data": {
      "text/plain": [
       "1.0    5323\n",
       "0.0    5323\n",
       "Name: DEFAULTER, dtype: int64"
      ]
     },
     "execution_count": 49,
     "metadata": {},
     "output_type": "execute_result"
    }
   ],
   "source": [
    "df_majority_downsampled = resample(df_majority, \n",
    "                                 replace=False,    # sample without replacement\n",
    "                                 n_samples=5323,     # to match minority class\n",
    "                                 random_state=587) # reproducible results\n",
    "# Combine minority class with downsampled majority class\n",
    "df_downsampled = pd.concat([df_majority_downsampled, df_minority])\n",
    "# Display new class counts\n",
    "df_downsampled.DEFAULTER.value_counts()"
   ]
  },
  {
   "cell_type": "code",
   "execution_count": 85,
   "metadata": {
    "collapsed": false
   },
   "outputs": [],
   "source": [
    "from pylab import pcolor, show, colorbar, xticks, yticks\n",
    "from sklearn.feature_selection import RFE\n",
    "from sklearn.linear_model import LogisticRegression\n",
    "from sklearn.neighbors import KNeighborsClassifier\n",
    "import sklearn.svm as svm\n",
    "from sklearn.cross_validation import cross_val_score, train_test_split\n",
    "import numpy as np\n",
    "from sklearn.metrics import roc_curve, auc, confusion_matrix, classification_report,accuracy_score\n",
    "from sklearn import preprocessing,cross_validation,svm,neighbors\n",
    "import pandas as pd\n",
    "from sklearn.naive_bayes import GaussianNB\n",
    "from sklearn.svm import SVC\n",
    "from sklearn.multiclass import OneVsRestClassifier\n",
    "from sklearn.svm import LinearSVC\n",
    "from sklearn.grid_search import GridSearchCV\n",
    "from sklearn.model_selection import KFold\n",
    "from sklearn.ensemble import GradientBoostingClassifier, RandomForestClassifier\n",
    "from sklearn import preprocessing, metrics\n",
    "from sklearn.tree import DecisionTreeClassifier\n",
    "from sklearn.ensemble import RandomForestClassifier\n",
    "from subprocess import check_output"
   ]
  },
  {
   "cell_type": "code",
   "execution_count": 77,
   "metadata": {
    "collapsed": false
   },
   "outputs": [],
   "source": [
    "x = df_train.drop(['DEFAULTER'],axis = 1)\n",
    "y = df_train.DEFAULTER\n",
    "\n",
    "# rescale the metrics to the same mean and standard deviation\n",
    "scaler = preprocessing.StandardScaler()\n",
    "x = scaler.fit(x).transform(x)\n",
    "\n",
    "# Further divide the train data into train test split 70% & 30% respectively\n",
    "x_train, x_test, y_train, y_test = train_test_split(x, y, test_size=0.3, stratify=y, random_state=2)"
   ]
  },
  {
   "cell_type": "code",
   "execution_count": 78,
   "metadata": {
    "collapsed": false
   },
   "outputs": [],
   "source": [
    "from sklearn import tree"
   ]
  },
  {
   "cell_type": "code",
   "execution_count": 79,
   "metadata": {
    "collapsed": false
   },
   "outputs": [],
   "source": [
    "clfs = {\n",
    "'LogisticRegression' : LogisticRegression(),\n",
    "'GaussianNB': GaussianNB(),\n",
    "'RandomForest': RandomForestClassifier(),\n",
    "'DecisionTreeClassifier': DecisionTreeClassifier(),\n",
    "'SVM': SVC(),\n",
    "'KNeighborsClassifier': KNeighborsClassifier(),\n",
    "'GradientBoosting': GradientBoostingClassifier(),\n",
    "}\n"
   ]
  },
  {
   "cell_type": "code",
   "execution_count": 80,
   "metadata": {
    "collapsed": false
   },
   "outputs": [
    {
     "data": {
      "text/html": [
       "<div>\n",
       "<table border=\"1\" class=\"dataframe\">\n",
       "  <thead>\n",
       "    <tr style=\"text-align: right;\">\n",
       "      <th></th>\n",
       "      <th>Model</th>\n",
       "      <th>Precision_score</th>\n",
       "      <th>Recall_score</th>\n",
       "      <th>F1_score</th>\n",
       "      <th>Accuracy</th>\n",
       "    </tr>\n",
       "  </thead>\n",
       "  <tbody>\n",
       "    <tr>\n",
       "      <th>0</th>\n",
       "      <td>SVM</td>\n",
       "      <td>0.684729</td>\n",
       "      <td>0.348153</td>\n",
       "      <td>0.461602</td>\n",
       "      <td>0.819861</td>\n",
       "    </tr>\n",
       "    <tr>\n",
       "      <th>1</th>\n",
       "      <td>KNeighborsClassifier</td>\n",
       "      <td>0.558257</td>\n",
       "      <td>0.345022</td>\n",
       "      <td>0.426471</td>\n",
       "      <td>0.794167</td>\n",
       "    </tr>\n",
       "    <tr>\n",
       "      <th>2</th>\n",
       "      <td>RandomForest</td>\n",
       "      <td>0.615877</td>\n",
       "      <td>0.301190</td>\n",
       "      <td>0.404542</td>\n",
       "      <td>0.803333</td>\n",
       "    </tr>\n",
       "    <tr>\n",
       "      <th>3</th>\n",
       "      <td>GaussianNB</td>\n",
       "      <td>0.449060</td>\n",
       "      <td>0.568566</td>\n",
       "      <td>0.501796</td>\n",
       "      <td>0.749583</td>\n",
       "    </tr>\n",
       "    <tr>\n",
       "      <th>4</th>\n",
       "      <td>DecisionTreeClassifier</td>\n",
       "      <td>0.395092</td>\n",
       "      <td>0.403256</td>\n",
       "      <td>0.399132</td>\n",
       "      <td>0.730694</td>\n",
       "    </tr>\n",
       "    <tr>\n",
       "      <th>5</th>\n",
       "      <td>LogisticRegression</td>\n",
       "      <td>0.696765</td>\n",
       "      <td>0.323732</td>\n",
       "      <td>0.442069</td>\n",
       "      <td>0.818750</td>\n",
       "    </tr>\n",
       "    <tr>\n",
       "      <th>6</th>\n",
       "      <td>GradientBoosting</td>\n",
       "      <td>0.681971</td>\n",
       "      <td>0.381340</td>\n",
       "      <td>0.489157</td>\n",
       "      <td>0.823333</td>\n",
       "    </tr>\n",
       "  </tbody>\n",
       "</table>\n",
       "</div>"
      ],
      "text/plain": [
       "                    Model  Precision_score  Recall_score  F1_score  Accuracy\n",
       "0                     SVM         0.684729      0.348153  0.461602  0.819861\n",
       "1    KNeighborsClassifier         0.558257      0.345022  0.426471  0.794167\n",
       "2            RandomForest         0.615877      0.301190  0.404542  0.803333\n",
       "3              GaussianNB         0.449060      0.568566  0.501796  0.749583\n",
       "4  DecisionTreeClassifier         0.395092      0.403256  0.399132  0.730694\n",
       "5      LogisticRegression         0.696765      0.323732  0.442069  0.818750\n",
       "6        GradientBoosting         0.681971      0.381340  0.489157  0.823333"
      ]
     },
     "execution_count": 80,
     "metadata": {},
     "output_type": "execute_result"
    }
   ],
   "source": [
    "models_report = pd.DataFrame(columns = ['Model', 'Precision_score', 'Recall_score','F1_score', 'Accuracy'])\n",
    "\n",
    "for clf, clf_name in zip(clfs.values(), clfs.keys()):\n",
    "    clf.fit(x_train,y_train)\n",
    "    y_pred = clf.predict(x_test)\n",
    "    y_score = clf.score(x_test,y_test)\n",
    "    \n",
    "    #print('Calculating {}'.format(clf_name))\n",
    "    t = pd.Series({ \n",
    "                     'Model': clf_name,\n",
    "                     'Precision_score': metrics.precision_score(y_test, y_pred),\n",
    "                     'Recall_score': metrics.recall_score(y_test, y_pred),\n",
    "                     'F1_score': metrics.f1_score(y_test, y_pred),\n",
    "                     'Accuracy': metrics.accuracy_score(y_test, y_pred)}\n",
    "                   )\n",
    "\n",
    "    models_report = models_report.append(t, ignore_index = True)\n",
    "\n",
    "models_report"
   ]
  },
  {
   "cell_type": "code",
   "execution_count": 81,
   "metadata": {
    "collapsed": false
   },
   "outputs": [],
   "source": [
    "def gridsearch(model, params,x_train, x_test, y_train, y_test, kfold):\n",
    "    gs = GridSearchCV(model, params, scoring='accuracy', n_jobs=-1, cv=kfold)\n",
    "    gs.fit(x_train, y_train)\n",
    "    print ('Best params: ', gs.best_params_)\n",
    "    print ('Best AUC on Train set: ', gs.best_score_)\n",
    "    print ('Best AUC on Test set: ', gs.score(x_test, y_test))\n",
    "\n",
    "# Function to generate confusion matrix\n",
    "def confmat(pred, y_test):\n",
    "    conmat = np.array(confusion_matrix(y_test, pred, labels=[1,0]))\n",
    "    conf = pd.DataFrame(conmat, index=['Defaulter', 'Not Defaulter'],\n",
    "                             columns=['Predicted Defaulter', 'Predicted Not Defaulter'])\n",
    "    print (conf)\n",
    "\n",
    "# Function to plot roc curve\n",
    "def roc(prob, y_test):\n",
    "    y_score = prob\n",
    "    fpr = dict()\n",
    "    tpr = dict()\n",
    "    roc_auc=dict()\n",
    "    fpr[1], tpr[1], _ = roc_curve(y_test, y_score)\n",
    "    roc_auc[1] = auc(fpr[1], tpr[1])\n",
    "    plt.figure(figsize=[7,7])\n",
    "    plt.plot(fpr[1], tpr[1], label='Roc curve (area=%0.2f)' %roc_auc[1], linewidth=4)\n",
    "    plt.plot([1,0], [1,0], 'k--', linewidth=4)\n",
    "    plt.xlim([0.0, 1.0])\n",
    "    plt.ylim([0.0, 1.0])\n",
    "    plt.xlabel('False Positive rate', fontsize=15)\n",
    "    plt.ylabel('True Positive rate', fontsize=15)\n",
    "    plt.title('ROC curve for Credit Default', fontsize=16)\n",
    "    plt.legend(loc='Lower Right')\n",
    "    plt.show()\n",
    "    \n",
    "def model(md, x_train, y_train,x_test, y_test):\n",
    "    md.fit(x_train, y_train)\n",
    "    pred = md.predict(x_test)\n",
    "    prob = md.predict_proba(x_test)[:,1]\n",
    "    print (' ') \n",
    "    print ('Accuracy on Train set: ', md.score(x_train, y_train))\n",
    "    print ('Accuracy on Test set: ', md.score(x_test, y_test))\n",
    "    print (' ')\n",
    "    print(classification_report(y_test, pred))\n",
    "    print (' ')\n",
    "    print ('Confusion Matrix')\n",
    "    confmat(pred, y_test)\n",
    "    roc(prob, y_test)\n",
    "    return md"
   ]
  },
  {
   "cell_type": "code",
   "execution_count": 82,
   "metadata": {
    "collapsed": false
   },
   "outputs": [
    {
     "name": "stdout",
     "output_type": "stream",
     "text": [
      "('Best params: ', {'n_estimators': 200, 'learning_rate': 0.01})\n",
      "('Best AUC on Train set: ', 0.82)\n",
      "('Best AUC on Test set: ', 0.82472222222222225)\n"
     ]
    }
   ],
   "source": [
    "# Use gridsearch to fine tune the parameters\n",
    "gb = GradientBoostingClassifier()\n",
    "gb_params = {'n_estimators': [100,200,300],'learning_rate' : [0.01, 0.02, 0.05, 0.1]}\n",
    "gridsearch(gb, gb_params,x_train, x_test, y_train, y_test,5)"
   ]
  },
  {
   "cell_type": "code",
   "execution_count": null,
   "metadata": {
    "collapsed": true
   },
   "outputs": [],
   "source": [
    "#building ROC curve"
   ]
  },
  {
   "cell_type": "code",
   "execution_count": 86,
   "metadata": {
    "collapsed": false
   },
   "outputs": [
    {
     "name": "stdout",
     "output_type": "stream",
     "text": [
      " \n",
      "('Accuracy on Train set: ', 0.87678571428571428)\n",
      "('Accuracy on Test set: ', 0.82125000000000004)\n",
      " \n",
      "             precision    recall  f1-score   support\n",
      "\n",
      "        0.0       0.84      0.95      0.89      5603\n",
      "        1.0       0.67      0.37      0.48      1597\n",
      "\n",
      "avg / total       0.80      0.82      0.80      7200\n",
      "\n",
      " \n",
      "Confusion Matrix\n",
      "               Predicted Defaulter  Predicted Not Defaulter\n",
      "Defaulter                      598                      999\n",
      "Not Defaulter                  288                     5315\n"
     ]
    },
    {
     "data": {
      "image/png": "[encoded data removed]",
      "text/plain": [
       "<matplotlib.figure.Figure at 0x16fadeb8>"
      ]
     },
     "metadata": {},
     "output_type": "display_data"
    }
   ],
   "source": [
    "gb = GradientBoostingClassifier(learning_rate= 0.02, max_depth= 7,n_estimators=300, max_features = 0.9,min_samples_leaf = 5)\n",
    "model_gb = model(gb, x_train, y_train,x_test, y_test)"
   ]
  },
  {
   "cell_type": "code",
   "execution_count": 87,
   "metadata": {
    "collapsed": false
   },
   "outputs": [
    {
     "name": "stdout",
     "output_type": "stream",
     "text": [
      "6000\n"
     ]
    }
   ],
   "source": [
    "Count_Row=df_test.shape[0] #gives number of row count\n",
    "print Count_Row"
   ]
  },
  {
   "cell_type": "code",
   "execution_count": null,
   "metadata": {
    "collapsed": true
   },
   "outputs": [],
   "source": [
    "#saving the prediction to test the model result in the test_data "
   ]
  },
  {
   "cell_type": "code",
   "execution_count": 88,
   "metadata": {
    "collapsed": false
   },
   "outputs": [],
   "source": [
    "df_test['PREDICTED_STATUS']=np.int_(model_gb.predict(df_test.drop(['DEFAULTER'],axis = 1)))\n",
    "df_test.index.names = ['ID']"
   ]
  },
  {
   "cell_type": "code",
   "execution_count": 89,
   "metadata": {
    "collapsed": false
   },
   "outputs": [],
   "source": [
    "df_test['PREDICTED_STATUS'].to_csv(\"credit_card_default_TRAIN_Predict.csv\")"
   ]
  },
  {
   "cell_type": "code",
   "execution_count": null,
   "metadata": {
    "collapsed": true
   },
   "outputs": [],
   "source": []
  }
 ],
 "metadata": {
  "anaconda-cloud": {},
  "kernelspec": {
   "display_name": "Python [conda root]",
   "language": "python",
   "name": "conda-root-py"
  },
  "language_info": {
   "codemirror_mode": {
    "name": "ipython",
    "version": 2
   },
   "file_extension": ".py",
   "mimetype": "text/x-python",
   "name": "python",
   "nbconvert_exporter": "python",
   "pygments_lexer": "ipython2",
   "version": "2.7.12"
  }
 },
 "nbformat": 4,
 "nbformat_minor": 2
}
